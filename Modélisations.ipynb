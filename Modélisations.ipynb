{
 "cells": [
  {
   "cell_type": "code",
   "execution_count": 83,
   "metadata": {},
   "outputs": [],
   "source": [
    "import pandas as pd\n",
    "import numpy as np\n",
    "from sklearn.linear_model import LogisticRegression\n",
    "from sklearn.neighbors import KNeighborsClassifier\n",
    "from sklearn.ensemble import RandomForestClassifier, GradientBoostingClassifier\n",
    "from sklearn.model_selection import train_test_split\n",
    "from sklearn.preprocessing import StandardScaler\n",
    "from sklearn.naive_bayes import GaussianNB\n",
    "from sklearn.neighbors import KNeighborsClassifier\n",
    "from sklearn.svm import SVC\n",
    "from sklearn.tree import DecisionTreeClassifier\n",
    "from xgboost import XGBClassifier\n",
    "from sklearn.metrics import classification_report, confusion_matrix\n",
    "from sklearn.metrics import log_loss\n",
    "from sklearn.model_selection import train_test_split\n",
    "from sklearn.metrics import accuracy_score\n",
    "from sklearn.metrics import confusion_matrix\n",
    "from lightgbm import LGBMClassifier\n",
    "from sklearn.model_selection import GridSearchCV\n",
    "from sklearn.feature_selection import SelectFromModel\n",
    "import matplotlib.pyplot as plt\n",
    "from sklearn.feature_selection import RFE"
   ]
  },
  {
   "cell_type": "code",
   "execution_count": 6,
   "metadata": {},
   "outputs": [],
   "source": [
    "def deFinetti(model,X,y):\n",
    "    pred = model.predict_proba(X)\n",
    "    if len(pred) == len(y):\n",
    "        deF=0\n",
    "        for i in range(len(pred)):\n",
    "            if y.iloc[i] == 1:\n",
    "                a,b,c=1,0,0\n",
    "            elif y.iloc[i] == 0:\n",
    "                a,b,c=0,1,0\n",
    "            else:\n",
    "                a,b,c=0,0,1\n",
    "            deF += (pred[i][2]-a)**2+(pred[i][1]-b)**2+(pred[i][0]-c)**2\n",
    "    return deF/len(pred)"
   ]
  },
  {
   "cell_type": "code",
   "execution_count": 7,
   "metadata": {},
   "outputs": [],
   "source": [
    "df = pd.read_excel('Data/Matchs_processed.xlsx')\n",
    "df.drop(['Unnamed: 0','Unnamed: 0.1','Unnamed: 0.1.1','Div','Date'],axis=1,inplace=True)\n",
    "df.Season = df.Season.apply(lambda x : int(x[:4]))\n",
    "def transform_target(x):\n",
    "    if x == 'H':\n",
    "        return 1\n",
    "    elif x == 'D':\n",
    "        return 0\n",
    "    elif x == 'A':\n",
    "        return -1\n",
    "df.FTR = df.FTR.apply(transform_target)"
   ]
  },
  {
   "cell_type": "markdown",
   "metadata": {},
   "source": [
    "## Train/Test/Validate\n",
    "\n",
    "*Saison 2010/2011 à 2018/2019 en train/test\n",
    "\n",
    "*Saison 2019/2020 en validation pour le gambling"
   ]
  },
  {
   "cell_type": "code",
   "execution_count": 4,
   "metadata": {},
   "outputs": [
    {
     "name": "stdout",
     "output_type": "stream",
     "text": [
      "3659 3420 239 3659\n"
     ]
    }
   ],
   "source": [
    "data = df[(df.Season <= 2018)]\n",
    "validate = df[df.Season == 2019]\n",
    "validate= validate.drop(['HomeTeam','AwayTeam','FTHG','FTAG','B365H','B365D','B365A','Season','Cle_eq_H','Cle_eq_A','Saison','Month'],axis=1)\n",
    "validate_reduc = validate.drop(['PMHT','RTHT','TGHH','TGHA','TGHT','TGAH','TGAA','TGAT','TGAHH','TGAHA','TGAHT','TGAAH','TGAAA',\n",
    "                       'PiRatHH2', 'PiRatHA2', 'PiRatHO2', 'PiRatAH2', 'PiRatAA2', 'PiRatAO2',\n",
    "                       'PiRatHH', 'PiRatHA', 'PiRatAH', 'PiRatAA','MaherXG_PredD','MaherXG_PredAW','MaherXG_PredHW','Defense_H','Milieu_H','Defense_A','Milieu_A',\n",
    "                       'DRH','DRA','LRH','LRA'],axis=1)\n",
    "data = data.drop(['HomeTeam','AwayTeam','FTHG','FTAG','B365H','B365D','B365A','Season','Cle_eq_H','Cle_eq_A','Saison','Month'],axis=1)\n",
    "data_reduct = data.drop(['PMHT','RTHT','TGHH','TGHA','TGHT','TGAH','TGAA','TGAT','TGAHH','TGAHA','TGAHT','TGAAH','TGAAA',\n",
    "                       'PiRatHH2', 'PiRatHA2', 'PiRatHO2', 'PiRatAH2', 'PiRatAA2', 'PiRatAO2',\n",
    "                       'PiRatHH', 'PiRatHA', 'PiRatAH', 'PiRatAA','MaherXG_PredD','MaherXG_PredAW','MaherXG_PredHW','Defense_H','Milieu_H','Defense_A','Milieu_A',\n",
    "                       'DRH','DRA','LRH','LRA'],axis=1)\n",
    "y_val=validate.FTR\n",
    "X_val = validate.drop('FTR',axis=1)\n",
    "y_val_r = validate_reduc.FTR\n",
    "X_val_r = validate_reduc.drop('FTR',axis=1)\n",
    "print(len(df),len(data),len(validate),len(data)+len(validate))"
   ]
  },
  {
   "cell_type": "markdown",
   "metadata": {},
   "source": [
    "## WITHOUT VAR SELECT\n"
   ]
  },
  {
   "cell_type": "code",
   "execution_count": 174,
   "metadata": {},
   "outputs": [
    {
     "name": "stdout",
     "output_type": "stream",
     "text": [
      "3659 3420 239 3659\n"
     ]
    }
   ],
   "source": [
    "data = df[(df.Season <= 2018)]\n",
    "validate = df[df.Season == 2019]\n",
    "validate= validate.drop(['HomeTeam','AwayTeam','FTHG','FTAG','B365H','B365D','B365A','Season','Cle_eq_H','Cle_eq_A','Saison','Month'],axis=1)\n",
    "data = data.drop(['HomeTeam','AwayTeam','FTHG','FTAG','B365H','B365D','B365A','Season','Cle_eq_H','Cle_eq_A','Saison','Month'],axis=1)\n",
    "y_val=validate.FTR\n",
    "X_val = validate.drop('FTR',axis=1)\n",
    "print(len(df),len(data),len(validate),len(data)+len(validate))\n",
    "from sklearn.model_selection import train_test_split\n",
    "y=data.FTR\n",
    "X=data.drop('FTR',axis=1)\n",
    "X_train, X_test, y_train, y_test = train_test_split(X, y, test_size=0.2, random_state=42)"
   ]
  },
  {
   "cell_type": "markdown",
   "metadata": {},
   "source": [
    "## Lancement de modèle qui vont servir de baseline"
   ]
  },
  {
   "cell_type": "code",
   "execution_count": 42,
   "metadata": {},
   "outputs": [
    {
     "name": "stderr",
     "output_type": "stream",
     "text": [
      "C:\\Users\\franc\\AppData\\Local\\Continuum\\anaconda3\\lib\\site-packages\\sklearn\\linear_model\\logistic.py:432: FutureWarning: Default solver will be changed to 'lbfgs' in 0.22. Specify a solver to silence this warning.\n",
      "  FutureWarning)\n",
      "C:\\Users\\franc\\AppData\\Local\\Continuum\\anaconda3\\lib\\site-packages\\sklearn\\linear_model\\logistic.py:469: FutureWarning: Default multi_class will be changed to 'auto' in 0.22. Specify the multi_class option to silence this warning.\n",
      "  \"this warning.\", FutureWarning)\n"
     ]
    },
    {
     "name": "stdout",
     "output_type": "stream",
     "text": [
      "<class 'sklearn.linear_model.logistic.LogisticRegression'>\n",
      "score =  0.5555555555555556\n",
      "DeFinetti 0.5567829552669132\n",
      "LogLoss 0.9426477945118175\n",
      "Accuracy Score 0.5555555555555556\n"
     ]
    },
    {
     "name": "stderr",
     "output_type": "stream",
     "text": [
      "C:\\Users\\franc\\AppData\\Local\\Continuum\\anaconda3\\lib\\site-packages\\sklearn\\ensemble\\forest.py:245: FutureWarning: The default value of n_estimators will change from 10 in version 0.20 to 100 in 0.22.\n",
      "  \"10 in version 0.20 to 100 in 0.22.\", FutureWarning)\n"
     ]
    },
    {
     "name": "stdout",
     "output_type": "stream",
     "text": [
      "<class 'sklearn.ensemble.forest.RandomForestClassifier'>\n",
      "score =  0.5292397660818714\n",
      "DeFinetti 0.59672514619883\n",
      "LogLoss 1.8722382298290485\n",
      "Accuracy Score 0.5292397660818714\n",
      "<class 'sklearn.neighbors.classification.KNeighborsClassifier'>\n",
      "score =  0.46345029239766083\n",
      "DeFinetti 0.6667836257309948\n",
      "LogLoss 4.599853804911176\n",
      "Accuracy Score 0.46345029239766083\n",
      "<class 'sklearn.naive_bayes.GaussianNB'>\n",
      "score =  0.5467836257309941\n",
      "DeFinetti 0.7556719404704332\n",
      "LogLoss 2.7397804768079554\n",
      "Accuracy Score 0.5467836257309941\n",
      "<class 'sklearn.tree.tree.DecisionTreeClassifier'>\n",
      "score =  0.4517543859649123\n",
      "DeFinetti 1.0964912280701755\n",
      "LogLoss 18.935732672648403\n",
      "Accuracy Score 0.4517543859649123\n",
      "<class 'xgboost.sklearn.XGBClassifier'>\n",
      "score =  0.5906432748538012\n",
      "DeFinetti 0.5166096364066267\n",
      "LogLoss 0.875414233349743\n",
      "Accuracy Score 0.5906432748538012\n"
     ]
    }
   ],
   "source": [
    "clfs = [LogisticRegression(random_state=42), RandomForestClassifier(random_state=42),\n",
    "        KNeighborsClassifier(),GaussianNB(),DecisionTreeClassifier(random_state=42),XGBClassifier(seed=42)]\n",
    "sc = StandardScaler()\n",
    "X_train_std = sc.fit_transform(X_train)\n",
    "X_test_std = sc.transform(X_test)\n",
    "for clf in clfs:\n",
    "    clf.fit(X_train, y_train)\n",
    "    print(type(clf))\n",
    "    print(\"score = \", clf.score(X_test, y_test),)\n",
    "    print('DeFinetti',deFinetti(clf,X_test,y_test))\n",
    "    print('LogLoss',log_loss(y_test,clf.predict_proba(X_test)))\n",
    "    print('Accuracy Score',accuracy_score(y_test, clf.predict(X_test)))\n"
   ]
  },
  {
   "cell_type": "code",
   "execution_count": 6,
   "metadata": {},
   "outputs": [
    {
     "name": "stderr",
     "output_type": "stream",
     "text": [
      "C:\\Users\\franc\\AppData\\Local\\Continuum\\anaconda3\\lib\\site-packages\\sklearn\\svm\\base.py:193: FutureWarning: The default value of gamma will change from 'auto' to 'scale' in version 0.22 to account better for unscaled features. Set gamma explicitly to 'auto' or 'scale' to avoid this warning.\n",
      "  \"avoid this warning.\", FutureWarning)\n"
     ]
    },
    {
     "data": {
      "text/plain": [
       "SVC(C=1.0, cache_size=200, class_weight=None, coef0=0.0,\n",
       "    decision_function_shape='ovr', degree=3, gamma='auto_deprecated',\n",
       "    kernel='rbf', max_iter=-1, probability=True, random_state=None,\n",
       "    shrinking=True, tol=0.001, verbose=False)"
      ]
     },
     "execution_count": 6,
     "metadata": {},
     "output_type": "execute_result"
    }
   ],
   "source": [
    "svclassifier = SVC(probability=True)\n",
    "svclassifier.fit(X_train, y_train)"
   ]
  },
  {
   "cell_type": "code",
   "execution_count": 9,
   "metadata": {},
   "outputs": [
    {
     "name": "stdout",
     "output_type": "stream",
     "text": [
      "DeFinetti 0.6352237654591243\n",
      "LogLoss 1.055813949161366\n",
      "Accuracy Score 0.47514619883040937\n"
     ]
    }
   ],
   "source": [
    "print('DeFinetti',deFinetti(svclassifier,X_test,y_test))\n",
    "print('LogLoss',log_loss(y_test,svclassifier.predict_proba(X_test)))\n",
    "print('Accuracy Score',accuracy_score(y_test, svclassifier.predict(X_test)))"
   ]
  },
  {
   "cell_type": "code",
   "execution_count": 50,
   "metadata": {},
   "outputs": [
    {
     "data": {
      "text/plain": [
       "Text(0.5, 1, 'SVM : Matrice de confusion')"
      ]
     },
     "execution_count": 50,
     "metadata": {},
     "output_type": "execute_result"
    },
    {
     "data": {
      "image/png": "[encoded data removed]",
      "text/plain": [
       "<Figure size 1080x288 with 6 Axes>"
      ]
     },
     "metadata": {
      "needs_background": "light"
     },
     "output_type": "display_data"
    }
   ],
   "source": [
    "plt.figure(figsize=(15,4))\n",
    "plt.subplot(131)\n",
    "matrix = confusion_matrix(y_test, clfs[0].predict(X_test))\n",
    "sns.heatmap(matrix/np.sum(matrix),annot=True,cbar=True,fmt='.2%', cmap=sns.diverging_palette(220, 10, as_cmap=True),\n",
    "            xticklabels=['Victoire Extérieur','Match Nul','Victoire Domicile'],\n",
    "            yticklabels=['Victoire Extérieur','Match Nul','Victoire Domicile']\n",
    "           )\n",
    "plt.ylabel('True Label')\n",
    "plt.xlabel('Predicted Label')\n",
    "plt.title('Régression Logistique : Matrice de confusion')\n",
    "plt.subplot(132)\n",
    "matrix = confusion_matrix(y_test, clfs[5].predict(X_test))\n",
    "sns.heatmap(matrix/np.sum(matrix),annot=True,cbar=True,fmt='.2%', cmap=sns.diverging_palette(220, 10, as_cmap=True),\n",
    "            xticklabels=['Victoire Extérieur','Match Nul','Victoire Domicile'],\n",
    "            yticklabels=['Victoire Extérieur','Match Nul','Victoire Domicile']\n",
    "           )\n",
    "plt.ylabel('True Label')\n",
    "plt.xlabel('Predicted Label')\n",
    "plt.title('XGBOOST : Matrice de confusion')\n",
    "plt.subplot(133)\n",
    "matrix = confusion_matrix(y_test, svclassifier.predict(X_test))\n",
    "sns.heatmap(matrix/np.sum(matrix),annot=True,cbar=True,fmt='.2%', cmap=sns.diverging_palette(220, 10, as_cmap=True),\n",
    "            xticklabels=['Victoire Extérieur','Match Nul','Victoire Domicile'],\n",
    "            yticklabels=['Victoire Extérieur','Match Nul','Victoire Domicile']\n",
    "           )\n",
    "plt.ylabel('True Label')\n",
    "plt.xlabel('Predicted Label')\n",
    "plt.subplots_adjust(wspace=1)\n",
    "plt.title('SVM : Matrice de confusion')"
   ]
  },
  {
   "cell_type": "markdown",
   "metadata": {},
   "source": [
    "### Tentatives d'optimisation des quatre modèles sélectionnés"
   ]
  },
  {
   "cell_type": "code",
   "execution_count": 70,
   "metadata": {},
   "outputs": [],
   "source": [
    "grid =[\n",
    "    {'penalty':['elasticnet'],'C':[i for i in range(1,11)],'solver':['saga']},\n",
    "    {'penalty':['l2'],'C':[i for i in range(1,11)],'solver':['newton-cg','sag','lbfgs','liblinear']},\n",
    "    {'penalty':['l1'],'C':[i for i in range(1,11)],'solver':['saga','liblinear']}\n",
    "]\n",
    "GCV=GridSearchCV(LogisticRegression(random_state=42,l1_ratio=1), param_grid = grid, cv = 5, verbose=True, n_jobs=-1)\n",
    "GCV.fit(X_train,y_train)"
   ]
  },
  {
   "cell_type": "code",
   "execution_count": 72,
   "metadata": {},
   "outputs": [
    {
     "name": "stdout",
     "output_type": "stream",
     "text": [
      "tuned hpyerparameters :(best parameters)  {'C': 10, 'penalty': 'l1', 'solver': 'liblinear'}\n",
      "accuracy : 0.5486111111111112\n",
      "DeFinetti: 0.530966385096473\n",
      "LogLoss :  0.8980437737591483\n"
     ]
    }
   ],
   "source": [
    "print(\"tuned hpyerparameters :(best parameters) \",GCV.best_params_)\n",
    "print(\"accuracy :\",GCV.best_score_)\n",
    "print('DeFinetti:',deFinetti(GCV,X_test,y_test))\n",
    "print('LogLoss : ',log_loss(y_test,GCV.predict_proba(X_test)))"
   ]
  },
  {
   "cell_type": "code",
   "execution_count": 164,
   "metadata": {},
   "outputs": [
    {
     "name": "stdout",
     "output_type": "stream",
     "text": [
      "accuracy : 0.5482456140350878\n",
      "DeFinetti: 0.6014906882908346\n",
      "LogLoss :  1.0727162154588936\n"
     ]
    }
   ],
   "source": [
    "print(\"accuracy :\",GCV.best_score_)\n",
    "print('DeFinetti:',deFinetti(GCV,X_val,y_val))\n",
    "print('LogLoss : ',log_loss(y_val,GCV.predict_proba(X_val)))"
   ]
  },
  {
   "cell_type": "code",
   "execution_count": 76,
   "metadata": {},
   "outputs": [],
   "source": [
    "grid2 =[\n",
    "    {'kernel':['rbf','sigmoid'],'C':[i for i in range(1,11)],'gamma':['scale'],'decision_function_shape':['ovo']},\n",
    "    {'kernel':['poly'],'C':[i for i in range(1,11)],'degree':[i for i in range(1,4)],'gamma':['scale'],'decision_function_shape':['ovo']}\n",
    "]"
   ]
  },
  {
   "cell_type": "code",
   "execution_count": 78,
   "metadata": {},
   "outputs": [
    {
     "name": "stdout",
     "output_type": "stream",
     "text": [
      "Fitting 5 folds for each of 50 candidates, totalling 250 fits\n"
     ]
    },
    {
     "name": "stderr",
     "output_type": "stream",
     "text": [
      "[Parallel(n_jobs=-1)]: Using backend LokyBackend with 4 concurrent workers.\n",
      "[Parallel(n_jobs=-1)]: Done  42 tasks      | elapsed:  3.6min\n",
      "[Parallel(n_jobs=-1)]: Done 192 tasks      | elapsed: 12.1min\n",
      "[Parallel(n_jobs=-1)]: Done 250 out of 250 | elapsed: 14.3min finished\n"
     ]
    },
    {
     "data": {
      "text/plain": [
       "GridSearchCV(cv=5, error_score='raise-deprecating',\n",
       "             estimator=SVC(C=1.0, cache_size=200, class_weight=None, coef0=0.0,\n",
       "                           decision_function_shape='ovr', degree=3,\n",
       "                           gamma='auto_deprecated', kernel='rbf', max_iter=-1,\n",
       "                           probability=True, random_state=42, shrinking=True,\n",
       "                           tol=0.001, verbose=False),\n",
       "             iid='warn', n_jobs=-1,\n",
       "             param_grid=[{'C': [1, 2, 3, 4, 5, 6, 7, 8, 9, 10],\n",
       "                          'decision_function_shape': ['ovo'],\n",
       "                          'gamma': ['scale'], 'kernel': ['rbf', 'sigmoid']},\n",
       "                         {'C': [1, 2, 3, 4, 5, 6, 7, 8, 9, 10],\n",
       "                          'decision_function_shape': ['ovo'],\n",
       "                          'degree': [1, 2, 3], 'gamma': ['scale'],\n",
       "                          'kernel': ['poly']}],\n",
       "             pre_dispatch='2*n_jobs', refit=True, return_train_score=False,\n",
       "             scoring=None, verbose=True)"
      ]
     },
     "execution_count": 78,
     "metadata": {},
     "output_type": "execute_result"
    }
   ],
   "source": [
    "GCV2=GridSearchCV(SVC(random_state=42,probability=True), param_grid = grid2, cv = 5, verbose=True, n_jobs=-1)\n",
    "GCV2.fit(X_train,y_train)"
   ]
  },
  {
   "cell_type": "code",
   "execution_count": 79,
   "metadata": {},
   "outputs": [
    {
     "name": "stdout",
     "output_type": "stream",
     "text": [
      "tuned hpyerparameters :(best parameters)  {'C': 8, 'decision_function_shape': 'ovo', 'degree': 3, 'gamma': 'scale', 'kernel': 'poly'}\n",
      "accuracy : 0.5277777777777778\n",
      "DeFinetti: 0.5796965565071636\n",
      "LogLoss :  0.9758771540698868\n"
     ]
    }
   ],
   "source": [
    "print(\"tuned hpyerparameters :(best parameters) \",GCV2.best_params_)\n",
    "print(\"accuracy :\",GCV2.best_score_)\n",
    "print('DeFinetti:',deFinetti(GCV2,X_test,y_test))\n",
    "print('LogLoss : ',log_loss(y_test,GCV2.predict_proba(X_test)))"
   ]
  },
  {
   "cell_type": "code",
   "execution_count": 22,
   "metadata": {},
   "outputs": [],
   "source": [
    "grid3 ={'eta':[i for i in np.arange(0.01,0.21,0.01)],\n",
    "            'max_depth':[i for i in range(11)],\n",
    "            'colsample_bytree':[i for i in np.arange(0.5,1.0,0.1)]}\n",
    "estimator = XGBClassifier(objective='multi:softmax',eval_metric='logloss',seed=42)"
   ]
  },
  {
   "cell_type": "code",
   "execution_count": 23,
   "metadata": {},
   "outputs": [
    {
     "name": "stdout",
     "output_type": "stream",
     "text": [
      "Fitting 5 folds for each of 1100 candidates, totalling 5500 fits\n"
     ]
    },
    {
     "name": "stderr",
     "output_type": "stream",
     "text": [
      "[Parallel(n_jobs=3)]: Using backend LokyBackend with 3 concurrent workers.\n",
      "[Parallel(n_jobs=3)]: Done  44 tasks      | elapsed:   36.8s\n",
      "[Parallel(n_jobs=3)]: Done 194 tasks      | elapsed:  2.4min\n",
      "[Parallel(n_jobs=3)]: Done 444 tasks      | elapsed:  5.5min\n",
      "[Parallel(n_jobs=3)]: Done 794 tasks      | elapsed:  9.4min\n",
      "[Parallel(n_jobs=3)]: Done 1244 tasks      | elapsed: 14.8min\n",
      "[Parallel(n_jobs=3)]: Done 1794 tasks      | elapsed: 22.0min\n",
      "[Parallel(n_jobs=3)]: Done 2444 tasks      | elapsed: 31.4min\n",
      "[Parallel(n_jobs=3)]: Done 3194 tasks      | elapsed: 46.5min\n",
      "[Parallel(n_jobs=3)]: Done 4044 tasks      | elapsed: 62.3min\n",
      "[Parallel(n_jobs=3)]: Done 4994 tasks      | elapsed: 82.7min\n",
      "[Parallel(n_jobs=3)]: Done 5500 out of 5500 | elapsed: 94.6min finished\n"
     ]
    },
    {
     "data": {
      "text/plain": [
       "GridSearchCV(cv=5, error_score='raise-deprecating',\n",
       "             estimator=XGBClassifier(base_score=0.5, booster='gbtree',\n",
       "                                     colsample_bylevel=1, colsample_bynode=1,\n",
       "                                     colsample_bytree=1, eval_metric='logloss',\n",
       "                                     gamma=0, learning_rate=0.1,\n",
       "                                     max_delta_step=0, max_depth=3,\n",
       "                                     min_child_weight=1, missing=None,\n",
       "                                     n_estimators=100, n_jobs=1, nthread=None,\n",
       "                                     objective='multi:softmax', random_state...\n",
       "             param_grid={'colsample_bytree': [0.5, 0.6, 0.7, 0.7999999999999999,\n",
       "                                              0.8999999999999999],\n",
       "                         'eta': [0.01, 0.02, 0.03, 0.04, 0.05,\n",
       "                                 0.060000000000000005, 0.06999999999999999,\n",
       "                                 0.08, 0.09, 0.09999999999999999, 0.11, 0.12,\n",
       "                                 0.13, 0.14, 0.15000000000000002, 0.16, 0.17,\n",
       "                                 0.18000000000000002, 0.19, 0.2],\n",
       "                         'max_depth': [0, 1, 2, 3, 4, 5, 6, 7, 8, 9, 10]},\n",
       "             pre_dispatch='2*n_jobs', refit=True, return_train_score=False,\n",
       "             scoring=None, verbose=True)"
      ]
     },
     "execution_count": 23,
     "metadata": {},
     "output_type": "execute_result"
    }
   ],
   "source": [
    "grid3 ={'eta':[i for i in np.arange(0.01,0.21,0.01)],\n",
    "            'max_depth':[i for i in range(11)],\n",
    "            'colsample_bytree':[i for i in np.arange(0.5,1.0,0.1)]}\n",
    "estimator = XGBClassifier(objective='multi:softmax',eval_metric='logloss',seed=42)\n",
    "GCV3=GridSearchCV(estimator = estimator, param_grid = grid3, cv = 5, verbose=True, n_jobs=3)\n",
    "GCV3.fit(X_train,y_train)"
   ]
  },
  {
   "cell_type": "code",
   "execution_count": 24,
   "metadata": {},
   "outputs": [
    {
     "name": "stdout",
     "output_type": "stream",
     "text": [
      "tuned hpyerparameters :(best parameters)  {'colsample_bytree': 0.7999999999999999, 'eta': 0.01, 'max_depth': 2}\n",
      "accuracy : 0.5738304093567251\n",
      "DeFinetti: 0.5176544987440975\n",
      "LogLoss :  0.8749258246882792\n"
     ]
    }
   ],
   "source": [
    "print(\"tuned hpyerparameters :(best parameters) \",GCV3.best_params_)\n",
    "print(\"accuracy :\",GCV3.best_score_)\n",
    "print('DeFinetti:',deFinetti(GCV3,X_test,y_test))\n",
    "print('LogLoss : ',log_loss(y_test,GCV3.predict_proba(X_test)))"
   ]
  },
  {
   "cell_type": "code",
   "execution_count": 27,
   "metadata": {
    "collapsed": true
   },
   "outputs": [
    {
     "ename": "NameError",
     "evalue": "name 'GCV' is not defined",
     "output_type": "error",
     "traceback": [
      "\u001b[1;31m---------------------------------------------------------------------------\u001b[0m",
      "\u001b[1;31mNameError\u001b[0m                                 Traceback (most recent call last)",
      "\u001b[1;32m<ipython-input-27-044f8f37d958>\u001b[0m in \u001b[0;36m<module>\u001b[1;34m\u001b[0m\n\u001b[0;32m      1\u001b[0m \u001b[0mplt\u001b[0m\u001b[1;33m.\u001b[0m\u001b[0mfigure\u001b[0m\u001b[1;33m(\u001b[0m\u001b[0mfigsize\u001b[0m\u001b[1;33m=\u001b[0m\u001b[1;33m(\u001b[0m\u001b[1;36m15\u001b[0m\u001b[1;33m,\u001b[0m\u001b[1;36m4\u001b[0m\u001b[1;33m)\u001b[0m\u001b[1;33m)\u001b[0m\u001b[1;33m\u001b[0m\u001b[1;33m\u001b[0m\u001b[0m\n\u001b[0;32m      2\u001b[0m \u001b[0mplt\u001b[0m\u001b[1;33m.\u001b[0m\u001b[0msubplot\u001b[0m\u001b[1;33m(\u001b[0m\u001b[1;36m131\u001b[0m\u001b[1;33m)\u001b[0m\u001b[1;33m\u001b[0m\u001b[1;33m\u001b[0m\u001b[0m\n\u001b[1;32m----> 3\u001b[1;33m \u001b[0mmatrix\u001b[0m \u001b[1;33m=\u001b[0m \u001b[0mconfusion_matrix\u001b[0m\u001b[1;33m(\u001b[0m\u001b[0my_test\u001b[0m\u001b[1;33m,\u001b[0m \u001b[0mGCV\u001b[0m\u001b[1;33m.\u001b[0m\u001b[0mpredict\u001b[0m\u001b[1;33m(\u001b[0m\u001b[0mX_test\u001b[0m\u001b[1;33m)\u001b[0m\u001b[1;33m)\u001b[0m\u001b[1;33m\u001b[0m\u001b[1;33m\u001b[0m\u001b[0m\n\u001b[0m\u001b[0;32m      4\u001b[0m sns.heatmap(matrix/np.sum(matrix),annot=True,cbar=True,fmt='.2%', cmap=sns.diverging_palette(220, 10, as_cmap=True),\n\u001b[0;32m      5\u001b[0m             \u001b[0mxticklabels\u001b[0m\u001b[1;33m=\u001b[0m\u001b[1;33m[\u001b[0m\u001b[1;34m'Victoire Extérieur'\u001b[0m\u001b[1;33m,\u001b[0m\u001b[1;34m'Match Nul'\u001b[0m\u001b[1;33m,\u001b[0m\u001b[1;34m'Victoire Domicile'\u001b[0m\u001b[1;33m]\u001b[0m\u001b[1;33m,\u001b[0m\u001b[1;33m\u001b[0m\u001b[1;33m\u001b[0m\u001b[0m\n",
      "\u001b[1;31mNameError\u001b[0m: name 'GCV' is not defined"
     ]
    },
    {
     "data": {
      "image/png": "[encoded data removed]",
      "text/plain": [
       "<Figure size 1080x288 with 1 Axes>"
      ]
     },
     "metadata": {
      "needs_background": "light"
     },
     "output_type": "display_data"
    }
   ],
   "source": [
    "plt.figure(figsize=(15,4))\n",
    "plt.subplot(131)\n",
    "matrix = confusion_matrix(y_test, GCV.predict(X_test))\n",
    "sns.heatmap(matrix/np.sum(matrix),annot=True,cbar=True,fmt='.2%', cmap=sns.diverging_palette(220, 10, as_cmap=True),\n",
    "            xticklabels=['Victoire Extérieur','Match Nul','Victoire Domicile'],\n",
    "            yticklabels=['Victoire Extérieur','Match Nul','Victoire Domicile']\n",
    "           )\n",
    "plt.ylabel('True Label')\n",
    "plt.xlabel('Predicted Label')\n",
    "plt.title('Régression Logistique : Matrice de confusion')\n",
    "plt.subplot(132)\n",
    "matrix = confusion_matrix(y_test, GCV2.predict(X_test))\n",
    "sns.heatmap(matrix/np.sum(matrix),annot=True,cbar=True,fmt='.2%', cmap=sns.diverging_palette(220, 10, as_cmap=True),\n",
    "            xticklabels=['Victoire Extérieur','Match Nul','Victoire Domicile'],\n",
    "            yticklabels=['Victoire Extérieur','Match Nul','Victoire Domicile']\n",
    "           )\n",
    "plt.ylabel('True Label')\n",
    "plt.xlabel('Predicted Label')\n",
    "plt.title('XGBOOST : Matrice de confusion')\n",
    "plt.subplot(133)\n",
    "matrix = confusion_matrix(y_test, GCV3.predict(X_test))\n",
    "sns.heatmap(matrix/np.sum(matrix),annot=True,cbar=True,fmt='.2%', cmap=sns.diverging_palette(220, 10, as_cmap=True),\n",
    "            xticklabels=['Victoire Extérieur','Match Nul','Victoire Domicile'],\n",
    "            yticklabels=['Victoire Extérieur','Match Nul','Victoire Domicile']\n",
    "           )\n",
    "plt.ylabel('True Label')\n",
    "plt.xlabel('Predicted Label')\n",
    "plt.subplots_adjust(wspace=1)\n",
    "plt.title('SVM : Matrice de confusion')"
   ]
  },
  {
   "cell_type": "code",
   "execution_count": 175,
   "metadata": {},
   "outputs": [
    {
     "name": "stdout",
     "output_type": "stream",
     "text": [
      "Fitting 5 folds for each of 180 candidates, totalling 900 fits\n"
     ]
    },
    {
     "name": "stderr",
     "output_type": "stream",
     "text": [
      "[Parallel(n_jobs=3)]: Using backend LokyBackend with 3 concurrent workers.\n",
      "[Parallel(n_jobs=3)]: Done  44 tasks      | elapsed:  1.5min\n",
      "[Parallel(n_jobs=3)]: Done 194 tasks      | elapsed:  7.8min\n",
      "[Parallel(n_jobs=3)]: Done 444 tasks      | elapsed: 25.2min\n",
      "[Parallel(n_jobs=3)]: Done 794 tasks      | elapsed: 54.6min\n",
      "[Parallel(n_jobs=3)]: Done 900 out of 900 | elapsed: 71.8min finished\n"
     ]
    },
    {
     "data": {
      "text/plain": [
       "GridSearchCV(cv=5, error_score='raise-deprecating',\n",
       "             estimator=RandomForestClassifier(bootstrap=True, class_weight=None,\n",
       "                                              criterion='gini', max_depth=None,\n",
       "                                              max_features='auto',\n",
       "                                              max_leaf_nodes=None,\n",
       "                                              min_impurity_decrease=0.0,\n",
       "                                              min_impurity_split=None,\n",
       "                                              min_samples_leaf=1,\n",
       "                                              min_samples_split=2,\n",
       "                                              min_weight_fraction_leaf=0.0,\n",
       "                                              n_estimators='warn', n_jobs=None,\n",
       "                                              oob_score=False, random_state=42,\n",
       "                                              verbose=0, warm_start=False),\n",
       "             iid='warn', n_jobs=3,\n",
       "             param_grid={'bootstrap': [True, False],\n",
       "                         'criterion': ['gini', 'entropy'],\n",
       "                         'min_samples_leaf': [1, 2, 4],\n",
       "                         'min_samples_split': [2, 5, 10],\n",
       "                         'n_estimators': [100, 250, 500, 750, 1000]},\n",
       "             pre_dispatch='2*n_jobs', refit=True, return_train_score=False,\n",
       "             scoring=None, verbose=True)"
      ]
     },
     "execution_count": 175,
     "metadata": {},
     "output_type": "execute_result"
    }
   ],
   "source": [
    "grid4 ={'n_estimators':[100,250,500,750,1000],\n",
    "       'criterion':['gini','entropy'],\n",
    "       'min_samples_split': [2, 5, 10],\n",
    "       'min_samples_leaf' :[1, 2, 4],\n",
    "       'bootstrap':[True,False]}\n",
    "estimator = RandomForestClassifier(random_state=42)\n",
    "GCV4=GridSearchCV(estimator = estimator, param_grid = grid4, cv = 5, verbose=True, n_jobs=3)\n",
    "GCV4.fit(X_train,y_train)"
   ]
  },
  {
   "cell_type": "code",
   "execution_count": 176,
   "metadata": {},
   "outputs": [
    {
     "name": "stdout",
     "output_type": "stream",
     "text": [
      "tuned hpyerparameters :(best parameters)  {'bootstrap': True, 'criterion': 'gini', 'min_samples_leaf': 4, 'min_samples_split': 10, 'n_estimators': 100}\n",
      "accuracy : 0.5617690058479532\n",
      "DeFinetti: 0.5274978947918563\n",
      "LogLoss :  0.8921876370718714\n"
     ]
    }
   ],
   "source": [
    "print(\"tuned hpyerparameters :(best parameters) \",GCV4.best_params_)\n",
    "print(\"accuracy :\",GCV4.best_score_)\n",
    "print('DeFinetti:',deFinetti(GCV4,X_test,y_test))\n",
    "print('LogLoss : ',log_loss(y_test,GCV4.predict_proba(X_test)))"
   ]
  },
  {
   "cell_type": "code",
   "execution_count": 177,
   "metadata": {},
   "outputs": [
    {
     "data": {
      "text/plain": [
       "Text(0.5, 1, 'RF : Matrice de confusion')"
      ]
     },
     "execution_count": 177,
     "metadata": {},
     "output_type": "execute_result"
    },
    {
     "data": {
      "image/png": "[encoded data removed]",
      "text/plain": [
       "<Figure size 432x288 with 2 Axes>"
      ]
     },
     "metadata": {
      "needs_background": "light"
     },
     "output_type": "display_data"
    }
   ],
   "source": [
    "matrix = confusion_matrix(y_test, GCV4.predict(X_test))\n",
    "sns.heatmap(matrix/np.sum(matrix),annot=True,cbar=True,fmt='.2%', cmap=sns.diverging_palette(220, 10, as_cmap=True),\n",
    "            xticklabels=['Victoire Extérieur','Match Nul','Victoire Domicile'],\n",
    "            yticklabels=['Victoire Extérieur','Match Nul','Victoire Domicile']\n",
    "           )\n",
    "plt.ylabel('True Label')\n",
    "plt.xlabel('Predicted Label')\n",
    "plt.subplots_adjust(wspace=1)\n",
    "plt.title('RF : Matrice de confusion')"
   ]
  },
  {
   "cell_type": "markdown",
   "metadata": {},
   "source": [
    "## Sélection de variable\n",
    "On sélectionne les variables en regardant les différentes corrélations associées et l'importance des variables à notre cible FTR"
   ]
  },
  {
   "cell_type": "code",
   "execution_count": 29,
   "metadata": {},
   "outputs": [],
   "source": [
    "sub_df = df.drop(['HomeTeam','AwayTeam','FTHG','FTAG','B365H','B365D','B365A','Season','Cle_eq_H','Cle_eq_A','Saison','Month'],axis=1)"
   ]
  },
  {
   "cell_type": "code",
   "execution_count": 178,
   "metadata": {},
   "outputs": [
    {
     "data": {
      "text/plain": [
       "<matplotlib.axes._subplots.AxesSubplot at 0x11d860efc18>"
      ]
     },
     "execution_count": 178,
     "metadata": {},
     "output_type": "execute_result"
    },
    {
     "data": {
      "image/png": "[encoded data removed]",
      "text/plain": [
       "<Figure size 720x720 with 2 Axes>"
      ]
     },
     "metadata": {
      "needs_background": "light"
     },
     "output_type": "display_data"
    }
   ],
   "source": [
    "corr=sub_df.corr()\n",
    "mask = np.triu(np.ones_like(corr, dtype=np.bool))\n",
    "f, ax = plt.subplots(figsize=(10, 10))\n",
    "cmap = sns.diverging_palette(220, 10, as_cmap=True)\n",
    "sns.heatmap(corr, mask=mask, cmap=cmap, vmax=1.1, center=0,\n",
    "            square=True, linewidths=.5, cbar_kws={\"shrink\": .5})"
   ]
  },
  {
   "cell_type": "code",
   "execution_count": 35,
   "metadata": {},
   "outputs": [],
   "source": [
    "var_corr = sub_df.drop(['PMHT','RTHT','TGHH','TGHA','TGHT','TGAH','TGAA','TGAT','TGAHH','TGAHA','TGAHT','TGAAH','TGAAA',\n",
    "                       'PiRatHH2', 'PiRatHA2', 'PiRatHO2', 'PiRatAH2', 'PiRatAA2', 'PiRatAO2',\n",
    "                       'PiRatHH', 'PiRatHA', 'PiRatAH', 'PiRatAA','MaherXG_PredD','MaherXG_PredAW','MaherXG_PredHW','Defense_H','Milieu_H','Defense_A','Milieu_A',\n",
    "                       'DRH','DRA','LRH','LRA','PMAT'],axis=1)"
   ]
  },
  {
   "cell_type": "code",
   "execution_count": 40,
   "metadata": {},
   "outputs": [
    {
     "data": {
      "text/plain": [
       "<matplotlib.axes._subplots.AxesSubplot at 0x11d8125e710>"
      ]
     },
     "execution_count": 40,
     "metadata": {},
     "output_type": "execute_result"
    },
    {
     "data": {
      "image/png": "[encoded data removed]",
      "text/plain": [
       "<Figure size 720x720 with 2 Axes>"
      ]
     },
     "metadata": {
      "needs_background": "light"
     },
     "output_type": "display_data"
    }
   ],
   "source": [
    "corr=var_corr.corr()\n",
    "mask = np.triu(np.ones_like(corr, dtype=np.bool))\n",
    "f, ax = plt.subplots(figsize=(10, 10))\n",
    "cmap = sns.diverging_palette(220, 10, as_cmap=True)\n",
    "sns.heatmap(corr, mask=mask, cmap=cmap, vmax=1.1, center=0,\n",
    "            square=True, linewidths=.5, cbar_kws={\"shrink\": .5})"
   ]
  },
  {
   "cell_type": "markdown",
   "metadata": {},
   "source": [
    "Test de normalisation de l'attaque"
   ]
  },
  {
   "cell_type": "code",
   "execution_count": 37,
   "metadata": {},
   "outputs": [],
   "source": [
    "sc= StandardScaler()\n",
    "var_corr['NAttaque_H']=sc.fit_transform(np.array(var_corr.Attaque_H).reshape(-1, 1))\n",
    "var_corr['NAttaque_A']=sc.fit_transform(np.array(var_corr.Attaque_A).reshape(-1, 1))"
   ]
  },
  {
   "cell_type": "code",
   "execution_count": 39,
   "metadata": {},
   "outputs": [],
   "source": [
    "var_corr=var_corr.drop(['Attaque_H','Attaque_A'],axis=1)"
   ]
  },
  {
   "cell_type": "markdown",
   "metadata": {},
   "source": [
    "## Feature importance\n",
    "\n",
    "Différentes méthodes de features importances sont utilisés pour tenter d'obtenir les variables les plus importantes. A la fin, les variables qui apparaissent au moins une fois dans les 4 méthodes seront prises en compte"
   ]
  },
  {
   "cell_type": "code",
   "execution_count": 97,
   "metadata": {},
   "outputs": [
    {
     "name": "stdout",
     "output_type": "stream",
     "text": [
      "3659 3420 239 3659\n"
     ]
    },
    {
     "data": {
      "text/plain": [
       "29"
      ]
     },
     "execution_count": 97,
     "metadata": {},
     "output_type": "execute_result"
    }
   ],
   "source": [
    "data = df[(df.Season <= 2018)]\n",
    "validate = df[df.Season == 2019]\n",
    "validate= validate.drop(['HomeTeam','AwayTeam','FTHG','FTAG','B365H','B365D','B365A','Season','Cle_eq_H','Cle_eq_A','Saison','Month'],axis=1)\n",
    "validate = validate.drop(['PMHT','RTHT','TGHH','TGHA','TGHT','TGAH','TGAA','TGAT','TGAHH','TGAHA','TGAHT','TGAAH','TGAAA',\n",
    "                       'PiRatHH2', 'PiRatHA2', 'PiRatHO2', 'PiRatAH2', 'PiRatAA2', 'PiRatAO2',\n",
    "                       'PiRatHH', 'PiRatHA', 'PiRatAH', 'PiRatAA','MaherXG_PredD','MaherXG_PredAW','MaherXG_PredHW','Defense_H','Milieu_H','Defense_A','Milieu_A',\n",
    "                       'DRH','DRA','LRH','LRA','PMAT','Attaque_H','Attaque_A'],axis=1)\n",
    "data = data.drop(['HomeTeam','AwayTeam','FTHG','FTAG','B365H','B365D','B365A','Season','Cle_eq_H','Cle_eq_A','Saison','Month'],axis=1)\n",
    "data=data.drop(['PMHT','RTHT','TGHH','TGHA','TGHT','TGAH','TGAA','TGAT','TGAHH','TGAHA','TGAHT','TGAAH','TGAAA',\n",
    "                       'PiRatHH2', 'PiRatHA2', 'PiRatHO2', 'PiRatAH2', 'PiRatAA2', 'PiRatAO2',\n",
    "                       'PiRatHH', 'PiRatHA', 'PiRatAH', 'PiRatAA','MaherXG_PredD','MaherXG_PredAW','MaherXG_PredHW','Defense_H','Milieu_H','Defense_A','Milieu_A',\n",
    "                       'DRH','DRA','LRH','LRA','PMAT','Attaque_H','Attaque_A'],axis=1)\n",
    "y_val=validate.FTR\n",
    "X_val = validate.drop('FTR',axis=1)\n",
    "print(len(df),len(data),len(validate),len(data)+len(validate))\n",
    "from sklearn.model_selection import train_test_split\n",
    "y=data.FTR\n",
    "X=data.drop('FTR',axis=1)\n",
    "X_train, X_test, y_train, y_test = train_test_split(X, y, test_size=0.2, random_state=42)\n",
    "len(X_train.columns)"
   ]
  },
  {
   "cell_type": "code",
   "execution_count": 98,
   "metadata": {
    "collapsed": true
   },
   "outputs": [
    {
     "name": "stdout",
     "output_type": "stream",
     "text": [
      "Fitting estimator with 29 features.\n"
     ]
    },
    {
     "name": "stderr",
     "output_type": "stream",
     "text": [
      "C:\\Users\\franc\\AppData\\Local\\Continuum\\anaconda3\\lib\\site-packages\\sklearn\\linear_model\\logistic.py:432: FutureWarning: Default solver will be changed to 'lbfgs' in 0.22. Specify a solver to silence this warning.\n",
      "  FutureWarning)\n",
      "C:\\Users\\franc\\AppData\\Local\\Continuum\\anaconda3\\lib\\site-packages\\sklearn\\linear_model\\logistic.py:469: FutureWarning: Default multi_class will be changed to 'auto' in 0.22. Specify the multi_class option to silence this warning.\n",
      "  \"this warning.\", FutureWarning)\n"
     ]
    },
    {
     "name": "stdout",
     "output_type": "stream",
     "text": [
      "Fitting estimator with 28 features.\n"
     ]
    },
    {
     "name": "stderr",
     "output_type": "stream",
     "text": [
      "C:\\Users\\franc\\AppData\\Local\\Continuum\\anaconda3\\lib\\site-packages\\sklearn\\linear_model\\logistic.py:432: FutureWarning: Default solver will be changed to 'lbfgs' in 0.22. Specify a solver to silence this warning.\n",
      "  FutureWarning)\n",
      "C:\\Users\\franc\\AppData\\Local\\Continuum\\anaconda3\\lib\\site-packages\\sklearn\\linear_model\\logistic.py:469: FutureWarning: Default multi_class will be changed to 'auto' in 0.22. Specify the multi_class option to silence this warning.\n",
      "  \"this warning.\", FutureWarning)\n"
     ]
    },
    {
     "name": "stdout",
     "output_type": "stream",
     "text": [
      "Fitting estimator with 27 features.\n"
     ]
    },
    {
     "name": "stderr",
     "output_type": "stream",
     "text": [
      "C:\\Users\\franc\\AppData\\Local\\Continuum\\anaconda3\\lib\\site-packages\\sklearn\\linear_model\\logistic.py:432: FutureWarning: Default solver will be changed to 'lbfgs' in 0.22. Specify a solver to silence this warning.\n",
      "  FutureWarning)\n",
      "C:\\Users\\franc\\AppData\\Local\\Continuum\\anaconda3\\lib\\site-packages\\sklearn\\linear_model\\logistic.py:469: FutureWarning: Default multi_class will be changed to 'auto' in 0.22. Specify the multi_class option to silence this warning.\n",
      "  \"this warning.\", FutureWarning)\n"
     ]
    },
    {
     "name": "stdout",
     "output_type": "stream",
     "text": [
      "Fitting estimator with 26 features.\n"
     ]
    },
    {
     "name": "stderr",
     "output_type": "stream",
     "text": [
      "C:\\Users\\franc\\AppData\\Local\\Continuum\\anaconda3\\lib\\site-packages\\sklearn\\linear_model\\logistic.py:432: FutureWarning: Default solver will be changed to 'lbfgs' in 0.22. Specify a solver to silence this warning.\n",
      "  FutureWarning)\n",
      "C:\\Users\\franc\\AppData\\Local\\Continuum\\anaconda3\\lib\\site-packages\\sklearn\\linear_model\\logistic.py:469: FutureWarning: Default multi_class will be changed to 'auto' in 0.22. Specify the multi_class option to silence this warning.\n",
      "  \"this warning.\", FutureWarning)\n"
     ]
    },
    {
     "name": "stdout",
     "output_type": "stream",
     "text": [
      "Fitting estimator with 25 features.\n"
     ]
    },
    {
     "name": "stderr",
     "output_type": "stream",
     "text": [
      "C:\\Users\\franc\\AppData\\Local\\Continuum\\anaconda3\\lib\\site-packages\\sklearn\\linear_model\\logistic.py:432: FutureWarning: Default solver will be changed to 'lbfgs' in 0.22. Specify a solver to silence this warning.\n",
      "  FutureWarning)\n",
      "C:\\Users\\franc\\AppData\\Local\\Continuum\\anaconda3\\lib\\site-packages\\sklearn\\linear_model\\logistic.py:469: FutureWarning: Default multi_class will be changed to 'auto' in 0.22. Specify the multi_class option to silence this warning.\n",
      "  \"this warning.\", FutureWarning)\n"
     ]
    },
    {
     "name": "stdout",
     "output_type": "stream",
     "text": [
      "Fitting estimator with 24 features.\n"
     ]
    },
    {
     "name": "stderr",
     "output_type": "stream",
     "text": [
      "C:\\Users\\franc\\AppData\\Local\\Continuum\\anaconda3\\lib\\site-packages\\sklearn\\linear_model\\logistic.py:432: FutureWarning: Default solver will be changed to 'lbfgs' in 0.22. Specify a solver to silence this warning.\n",
      "  FutureWarning)\n",
      "C:\\Users\\franc\\AppData\\Local\\Continuum\\anaconda3\\lib\\site-packages\\sklearn\\linear_model\\logistic.py:469: FutureWarning: Default multi_class will be changed to 'auto' in 0.22. Specify the multi_class option to silence this warning.\n",
      "  \"this warning.\", FutureWarning)\n"
     ]
    },
    {
     "name": "stdout",
     "output_type": "stream",
     "text": [
      "Fitting estimator with 23 features.\n"
     ]
    },
    {
     "name": "stderr",
     "output_type": "stream",
     "text": [
      "C:\\Users\\franc\\AppData\\Local\\Continuum\\anaconda3\\lib\\site-packages\\sklearn\\linear_model\\logistic.py:432: FutureWarning: Default solver will be changed to 'lbfgs' in 0.22. Specify a solver to silence this warning.\n",
      "  FutureWarning)\n",
      "C:\\Users\\franc\\AppData\\Local\\Continuum\\anaconda3\\lib\\site-packages\\sklearn\\linear_model\\logistic.py:469: FutureWarning: Default multi_class will be changed to 'auto' in 0.22. Specify the multi_class option to silence this warning.\n",
      "  \"this warning.\", FutureWarning)\n"
     ]
    },
    {
     "name": "stdout",
     "output_type": "stream",
     "text": [
      "Fitting estimator with 22 features.\n"
     ]
    },
    {
     "name": "stderr",
     "output_type": "stream",
     "text": [
      "C:\\Users\\franc\\AppData\\Local\\Continuum\\anaconda3\\lib\\site-packages\\sklearn\\linear_model\\logistic.py:432: FutureWarning: Default solver will be changed to 'lbfgs' in 0.22. Specify a solver to silence this warning.\n",
      "  FutureWarning)\n",
      "C:\\Users\\franc\\AppData\\Local\\Continuum\\anaconda3\\lib\\site-packages\\sklearn\\linear_model\\logistic.py:469: FutureWarning: Default multi_class will be changed to 'auto' in 0.22. Specify the multi_class option to silence this warning.\n",
      "  \"this warning.\", FutureWarning)\n"
     ]
    },
    {
     "name": "stdout",
     "output_type": "stream",
     "text": [
      "Fitting estimator with 21 features.\n"
     ]
    },
    {
     "name": "stderr",
     "output_type": "stream",
     "text": [
      "C:\\Users\\franc\\AppData\\Local\\Continuum\\anaconda3\\lib\\site-packages\\sklearn\\linear_model\\logistic.py:432: FutureWarning: Default solver will be changed to 'lbfgs' in 0.22. Specify a solver to silence this warning.\n",
      "  FutureWarning)\n",
      "C:\\Users\\franc\\AppData\\Local\\Continuum\\anaconda3\\lib\\site-packages\\sklearn\\linear_model\\logistic.py:469: FutureWarning: Default multi_class will be changed to 'auto' in 0.22. Specify the multi_class option to silence this warning.\n",
      "  \"this warning.\", FutureWarning)\n"
     ]
    },
    {
     "name": "stdout",
     "output_type": "stream",
     "text": [
      "Fitting estimator with 20 features.\n"
     ]
    },
    {
     "name": "stderr",
     "output_type": "stream",
     "text": [
      "C:\\Users\\franc\\AppData\\Local\\Continuum\\anaconda3\\lib\\site-packages\\sklearn\\linear_model\\logistic.py:432: FutureWarning: Default solver will be changed to 'lbfgs' in 0.22. Specify a solver to silence this warning.\n",
      "  FutureWarning)\n",
      "C:\\Users\\franc\\AppData\\Local\\Continuum\\anaconda3\\lib\\site-packages\\sklearn\\linear_model\\logistic.py:469: FutureWarning: Default multi_class will be changed to 'auto' in 0.22. Specify the multi_class option to silence this warning.\n",
      "  \"this warning.\", FutureWarning)\n"
     ]
    },
    {
     "name": "stdout",
     "output_type": "stream",
     "text": [
      "Fitting estimator with 19 features.\n",
      "Fitting estimator with 18 features.\n"
     ]
    },
    {
     "name": "stderr",
     "output_type": "stream",
     "text": [
      "C:\\Users\\franc\\AppData\\Local\\Continuum\\anaconda3\\lib\\site-packages\\sklearn\\linear_model\\logistic.py:432: FutureWarning: Default solver will be changed to 'lbfgs' in 0.22. Specify a solver to silence this warning.\n",
      "  FutureWarning)\n",
      "C:\\Users\\franc\\AppData\\Local\\Continuum\\anaconda3\\lib\\site-packages\\sklearn\\linear_model\\logistic.py:469: FutureWarning: Default multi_class will be changed to 'auto' in 0.22. Specify the multi_class option to silence this warning.\n",
      "  \"this warning.\", FutureWarning)\n",
      "C:\\Users\\franc\\AppData\\Local\\Continuum\\anaconda3\\lib\\site-packages\\sklearn\\linear_model\\logistic.py:432: FutureWarning: Default solver will be changed to 'lbfgs' in 0.22. Specify a solver to silence this warning.\n",
      "  FutureWarning)\n",
      "C:\\Users\\franc\\AppData\\Local\\Continuum\\anaconda3\\lib\\site-packages\\sklearn\\linear_model\\logistic.py:469: FutureWarning: Default multi_class will be changed to 'auto' in 0.22. Specify the multi_class option to silence this warning.\n",
      "  \"this warning.\", FutureWarning)\n"
     ]
    },
    {
     "name": "stdout",
     "output_type": "stream",
     "text": [
      "Fitting estimator with 17 features.\n",
      "Fitting estimator with 16 features.\n"
     ]
    },
    {
     "name": "stderr",
     "output_type": "stream",
     "text": [
      "C:\\Users\\franc\\AppData\\Local\\Continuum\\anaconda3\\lib\\site-packages\\sklearn\\linear_model\\logistic.py:432: FutureWarning: Default solver will be changed to 'lbfgs' in 0.22. Specify a solver to silence this warning.\n",
      "  FutureWarning)\n",
      "C:\\Users\\franc\\AppData\\Local\\Continuum\\anaconda3\\lib\\site-packages\\sklearn\\linear_model\\logistic.py:469: FutureWarning: Default multi_class will be changed to 'auto' in 0.22. Specify the multi_class option to silence this warning.\n",
      "  \"this warning.\", FutureWarning)\n",
      "C:\\Users\\franc\\AppData\\Local\\Continuum\\anaconda3\\lib\\site-packages\\sklearn\\linear_model\\logistic.py:432: FutureWarning: Default solver will be changed to 'lbfgs' in 0.22. Specify a solver to silence this warning.\n",
      "  FutureWarning)\n",
      "C:\\Users\\franc\\AppData\\Local\\Continuum\\anaconda3\\lib\\site-packages\\sklearn\\linear_model\\logistic.py:469: FutureWarning: Default multi_class will be changed to 'auto' in 0.22. Specify the multi_class option to silence this warning.\n",
      "  \"this warning.\", FutureWarning)\n"
     ]
    },
    {
     "name": "stdout",
     "output_type": "stream",
     "text": [
      "Fitting estimator with 15 features.\n",
      "Fitting estimator with 14 features.\n"
     ]
    },
    {
     "name": "stderr",
     "output_type": "stream",
     "text": [
      "C:\\Users\\franc\\AppData\\Local\\Continuum\\anaconda3\\lib\\site-packages\\sklearn\\linear_model\\logistic.py:432: FutureWarning: Default solver will be changed to 'lbfgs' in 0.22. Specify a solver to silence this warning.\n",
      "  FutureWarning)\n",
      "C:\\Users\\franc\\AppData\\Local\\Continuum\\anaconda3\\lib\\site-packages\\sklearn\\linear_model\\logistic.py:469: FutureWarning: Default multi_class will be changed to 'auto' in 0.22. Specify the multi_class option to silence this warning.\n",
      "  \"this warning.\", FutureWarning)\n",
      "C:\\Users\\franc\\AppData\\Local\\Continuum\\anaconda3\\lib\\site-packages\\sklearn\\linear_model\\logistic.py:432: FutureWarning: Default solver will be changed to 'lbfgs' in 0.22. Specify a solver to silence this warning.\n",
      "  FutureWarning)\n",
      "C:\\Users\\franc\\AppData\\Local\\Continuum\\anaconda3\\lib\\site-packages\\sklearn\\linear_model\\logistic.py:469: FutureWarning: Default multi_class will be changed to 'auto' in 0.22. Specify the multi_class option to silence this warning.\n",
      "  \"this warning.\", FutureWarning)\n"
     ]
    },
    {
     "name": "stdout",
     "output_type": "stream",
     "text": [
      "Fitting estimator with 13 features.\n",
      "Fitting estimator with 12 features.\n"
     ]
    },
    {
     "name": "stderr",
     "output_type": "stream",
     "text": [
      "C:\\Users\\franc\\AppData\\Local\\Continuum\\anaconda3\\lib\\site-packages\\sklearn\\linear_model\\logistic.py:432: FutureWarning: Default solver will be changed to 'lbfgs' in 0.22. Specify a solver to silence this warning.\n",
      "  FutureWarning)\n",
      "C:\\Users\\franc\\AppData\\Local\\Continuum\\anaconda3\\lib\\site-packages\\sklearn\\linear_model\\logistic.py:469: FutureWarning: Default multi_class will be changed to 'auto' in 0.22. Specify the multi_class option to silence this warning.\n",
      "  \"this warning.\", FutureWarning)\n",
      "C:\\Users\\franc\\AppData\\Local\\Continuum\\anaconda3\\lib\\site-packages\\sklearn\\linear_model\\logistic.py:432: FutureWarning: Default solver will be changed to 'lbfgs' in 0.22. Specify a solver to silence this warning.\n",
      "  FutureWarning)\n",
      "C:\\Users\\franc\\AppData\\Local\\Continuum\\anaconda3\\lib\\site-packages\\sklearn\\linear_model\\logistic.py:469: FutureWarning: Default multi_class will be changed to 'auto' in 0.22. Specify the multi_class option to silence this warning.\n",
      "  \"this warning.\", FutureWarning)\n"
     ]
    },
    {
     "name": "stdout",
     "output_type": "stream",
     "text": [
      "Fitting estimator with 11 features.\n"
     ]
    },
    {
     "name": "stderr",
     "output_type": "stream",
     "text": [
      "C:\\Users\\franc\\AppData\\Local\\Continuum\\anaconda3\\lib\\site-packages\\sklearn\\linear_model\\logistic.py:432: FutureWarning: Default solver will be changed to 'lbfgs' in 0.22. Specify a solver to silence this warning.\n",
      "  FutureWarning)\n",
      "C:\\Users\\franc\\AppData\\Local\\Continuum\\anaconda3\\lib\\site-packages\\sklearn\\linear_model\\logistic.py:469: FutureWarning: Default multi_class will be changed to 'auto' in 0.22. Specify the multi_class option to silence this warning.\n",
      "  \"this warning.\", FutureWarning)\n",
      "C:\\Users\\franc\\AppData\\Local\\Continuum\\anaconda3\\lib\\site-packages\\sklearn\\linear_model\\logistic.py:432: FutureWarning: Default solver will be changed to 'lbfgs' in 0.22. Specify a solver to silence this warning.\n",
      "  FutureWarning)\n",
      "C:\\Users\\franc\\AppData\\Local\\Continuum\\anaconda3\\lib\\site-packages\\sklearn\\linear_model\\logistic.py:469: FutureWarning: Default multi_class will be changed to 'auto' in 0.22. Specify the multi_class option to silence this warning.\n",
      "  \"this warning.\", FutureWarning)\n"
     ]
    },
    {
     "data": {
      "text/plain": [
       "RFE(estimator=LogisticRegression(C=1.0, class_weight=None, dual=False,\n",
       "                                 fit_intercept=True, intercept_scaling=1,\n",
       "                                 l1_ratio=None, max_iter=100,\n",
       "                                 multi_class='warn', n_jobs=None, penalty='l2',\n",
       "                                 random_state=42, solver='warn', tol=0.0001,\n",
       "                                 verbose=0, warm_start=False),\n",
       "    n_features_to_select=10, step=1, verbose=5)"
      ]
     },
     "execution_count": 98,
     "metadata": {},
     "output_type": "execute_result"
    }
   ],
   "source": [
    "rfe_selector = RFE(estimator=LogisticRegression(random_state=42), n_features_to_select=10, step=1, verbose=5)\n",
    "rfe_selector.fit(X_train, y_train)"
   ]
  },
  {
   "cell_type": "code",
   "execution_count": 99,
   "metadata": {},
   "outputs": [
    {
     "name": "stdout",
     "output_type": "stream",
     "text": [
      "10 selected features\n"
     ]
    }
   ],
   "source": [
    "rfe_support = rfe_selector.get_support()\n",
    "rfe_feature = X.loc[:,rfe_support].columns.tolist()\n",
    "print(str(len(rfe_feature)), 'selected features')"
   ]
  },
  {
   "cell_type": "code",
   "execution_count": 100,
   "metadata": {},
   "outputs": [
    {
     "data": {
      "text/plain": [
       "['WRH',\n",
       " 'WRA',\n",
       " 'WRAH',\n",
       " 'WRAA',\n",
       " 'PiRatHO',\n",
       " 'PiRatAO',\n",
       " 'MaherXG_HG',\n",
       " 'MaherXG_AG',\n",
       " 'AvgValue_H',\n",
       " 'AvgValue_A']"
      ]
     },
     "execution_count": 100,
     "metadata": {},
     "output_type": "execute_result"
    }
   ],
   "source": [
    "rfe_feature"
   ]
  },
  {
   "cell_type": "code",
   "execution_count": 101,
   "metadata": {},
   "outputs": [
    {
     "name": "stderr",
     "output_type": "stream",
     "text": [
      "C:\\Users\\franc\\AppData\\Local\\Continuum\\anaconda3\\lib\\site-packages\\sklearn\\linear_model\\logistic.py:432: FutureWarning: Default solver will be changed to 'lbfgs' in 0.22. Specify a solver to silence this warning.\n",
      "  FutureWarning)\n",
      "C:\\Users\\franc\\AppData\\Local\\Continuum\\anaconda3\\lib\\site-packages\\sklearn\\linear_model\\logistic.py:469: FutureWarning: Default multi_class will be changed to 'auto' in 0.22. Specify the multi_class option to silence this warning.\n",
      "  \"this warning.\", FutureWarning)\n",
      "C:\\Users\\franc\\AppData\\Local\\Continuum\\anaconda3\\lib\\site-packages\\sklearn\\ensemble\\forest.py:245: FutureWarning: The default value of n_estimators will change from 10 in version 0.20 to 100 in 0.22.\n",
      "  \"10 in version 0.20 to 100 in 0.22.\", FutureWarning)\n"
     ]
    },
    {
     "name": "stdout",
     "output_type": "stream",
     "text": [
      "<class 'sklearn.linear_model.logistic.LogisticRegression'>\n",
      "score =  0.5453216374269005\n",
      "DeFinetti 0.5611848128823911\n",
      "LogLoss 0.9479516153322431\n",
      "Accuracy Score 0.5453216374269005\n",
      "<class 'sklearn.ensemble.forest.RandomForestClassifier'>\n",
      "score =  0.5614035087719298\n",
      "DeFinetti 0.5683625730994144\n",
      "LogLoss 1.7747541356125518\n",
      "Accuracy Score 0.5614035087719298\n",
      "<class 'sklearn.neighbors.classification.KNeighborsClassifier'>\n",
      "score =  0.47953216374269003\n",
      "DeFinetti 0.6654970760233919\n",
      "LogLoss 4.873654244610319\n",
      "Accuracy Score 0.47953216374269003\n",
      "<class 'sklearn.naive_bayes.GaussianNB'>\n",
      "score =  0.5497076023391813\n",
      "DeFinetti 0.5843741815218655\n",
      "LogLoss 1.0685329771546448\n",
      "Accuracy Score 0.5497076023391813\n",
      "<class 'sklearn.tree.tree.DecisionTreeClassifier'>\n",
      "score =  0.4692982456140351\n",
      "DeFinetti 1.0614035087719298\n",
      "LogLoss 18.32978922712365\n",
      "Accuracy Score 0.4692982456140351\n",
      "<class 'xgboost.sklearn.XGBClassifier'>\n",
      "score =  0.5994152046783626\n",
      "DeFinetti 0.5223492872135561\n",
      "LogLoss 0.8853682622705635\n",
      "Accuracy Score 0.5994152046783626\n"
     ]
    }
   ],
   "source": [
    "X_train,X_test,X_val = X_train[rfe_feature],X_test[rfe_feature],X_val[rfe_feature]\n",
    "clfs = [LogisticRegression(random_state=42), RandomForestClassifier(random_state=42),\n",
    "        KNeighborsClassifier(),GaussianNB(),DecisionTreeClassifier(random_state=42),XGBClassifier(seed=42)]\n",
    "for clf in clfs:\n",
    "    clf.fit(X_train, y_train)\n",
    "    print(type(clf))\n",
    "    print(\"score = \", clf.score(X_test, y_test),)\n",
    "    print('DeFinetti',deFinetti(clf,X_test,y_test))\n",
    "    print('LogLoss',log_loss(y_test,clf.predict_proba(X_test)))\n",
    "    print('Accuracy Score',accuracy_score(y_test, clf.predict(X_test)))"
   ]
  },
  {
   "cell_type": "code",
   "execution_count": 102,
   "metadata": {},
   "outputs": [
    {
     "name": "stdout",
     "output_type": "stream",
     "text": [
      "3659 3420 239 3659\n"
     ]
    },
    {
     "data": {
      "text/plain": [
       "29"
      ]
     },
     "execution_count": 102,
     "metadata": {},
     "output_type": "execute_result"
    }
   ],
   "source": [
    "data = df[(df.Season <= 2018)]\n",
    "validate = df[df.Season == 2019]\n",
    "validate= validate.drop(['HomeTeam','AwayTeam','FTHG','FTAG','B365H','B365D','B365A','Season','Cle_eq_H','Cle_eq_A','Saison','Month'],axis=1)\n",
    "validate = validate.drop(['PMHT','RTHT','TGHH','TGHA','TGHT','TGAH','TGAA','TGAT','TGAHH','TGAHA','TGAHT','TGAAH','TGAAA',\n",
    "                       'PiRatHH2', 'PiRatHA2', 'PiRatHO2', 'PiRatAH2', 'PiRatAA2', 'PiRatAO2',\n",
    "                       'PiRatHH', 'PiRatHA', 'PiRatAH', 'PiRatAA','MaherXG_PredD','MaherXG_PredAW','MaherXG_PredHW','Defense_H','Milieu_H','Defense_A','Milieu_A',\n",
    "                       'DRH','DRA','LRH','LRA','PMAT','Attaque_H','Attaque_A'],axis=1)\n",
    "data = data.drop(['HomeTeam','AwayTeam','FTHG','FTAG','B365H','B365D','B365A','Season','Cle_eq_H','Cle_eq_A','Saison','Month'],axis=1)\n",
    "data=data.drop(['PMHT','RTHT','TGHH','TGHA','TGHT','TGAH','TGAA','TGAT','TGAHH','TGAHA','TGAHT','TGAAH','TGAAA',\n",
    "                       'PiRatHH2', 'PiRatHA2', 'PiRatHO2', 'PiRatAH2', 'PiRatAA2', 'PiRatAO2',\n",
    "                       'PiRatHH', 'PiRatHA', 'PiRatAH', 'PiRatAA','MaherXG_PredD','MaherXG_PredAW','MaherXG_PredHW','Defense_H','Milieu_H','Defense_A','Milieu_A',\n",
    "                       'DRH','DRA','LRH','LRA','PMAT','Attaque_H','Attaque_A'],axis=1)\n",
    "y_val=validate.FTR\n",
    "X_val = validate.drop('FTR',axis=1)\n",
    "print(len(df),len(data),len(validate),len(data)+len(validate))\n",
    "from sklearn.model_selection import train_test_split\n",
    "y=data.FTR\n",
    "X=data.drop('FTR',axis=1)\n",
    "X_train, X_test, y_train, y_test = train_test_split(X, y, test_size=0.2, random_state=42)\n",
    "len(X_train.columns)"
   ]
  },
  {
   "cell_type": "code",
   "execution_count": 103,
   "metadata": {},
   "outputs": [
    {
     "data": {
      "text/plain": [
       "SelectFromModel(estimator=RandomForestClassifier(bootstrap=True,\n",
       "                                                 class_weight=None,\n",
       "                                                 criterion='gini',\n",
       "                                                 max_depth=None,\n",
       "                                                 max_features='auto',\n",
       "                                                 max_leaf_nodes=None,\n",
       "                                                 min_impurity_decrease=0.0,\n",
       "                                                 min_impurity_split=None,\n",
       "                                                 min_samples_leaf=1,\n",
       "                                                 min_samples_split=2,\n",
       "                                                 min_weight_fraction_leaf=0.0,\n",
       "                                                 n_estimators=100, n_jobs=None,\n",
       "                                                 oob_score=False,\n",
       "                                                 random_state=None, verbose=0,\n",
       "                                                 warm_start=False),\n",
       "                max_features=None, norm_order=1, prefit=False,\n",
       "                threshold='1.25*median')"
      ]
     },
     "execution_count": 103,
     "metadata": {},
     "output_type": "execute_result"
    }
   ],
   "source": [
    "embeded_rf_selector = SelectFromModel(RandomForestClassifier(n_estimators=100), threshold='1.25*median')\n",
    "embeded_rf_selector.fit(X_train, y_train)"
   ]
  },
  {
   "cell_type": "code",
   "execution_count": 104,
   "metadata": {},
   "outputs": [
    {
     "name": "stdout",
     "output_type": "stream",
     "text": [
      "5 ['PiRatHO', 'PiRatAO', 'MaherXG_HG', 'AvgValue_H', 'AvgValue_A'] selected features\n"
     ]
    }
   ],
   "source": [
    "embeded_rf_support = embeded_rf_selector.get_support()\n",
    "embeded_rf_feature = X.loc[:,embeded_rf_support].columns.tolist()\n",
    "print(str(len(embeded_rf_feature)),embeded_rf_feature, 'selected features')"
   ]
  },
  {
   "cell_type": "code",
   "execution_count": 105,
   "metadata": {},
   "outputs": [
    {
     "name": "stderr",
     "output_type": "stream",
     "text": [
      "C:\\Users\\franc\\AppData\\Local\\Continuum\\anaconda3\\lib\\site-packages\\sklearn\\linear_model\\logistic.py:432: FutureWarning: Default solver will be changed to 'lbfgs' in 0.22. Specify a solver to silence this warning.\n",
      "  FutureWarning)\n",
      "C:\\Users\\franc\\AppData\\Local\\Continuum\\anaconda3\\lib\\site-packages\\sklearn\\linear_model\\logistic.py:469: FutureWarning: Default multi_class will be changed to 'auto' in 0.22. Specify the multi_class option to silence this warning.\n",
      "  \"this warning.\", FutureWarning)\n",
      "C:\\Users\\franc\\AppData\\Local\\Continuum\\anaconda3\\lib\\site-packages\\sklearn\\ensemble\\forest.py:245: FutureWarning: The default value of n_estimators will change from 10 in version 0.20 to 100 in 0.22.\n",
      "  \"10 in version 0.20 to 100 in 0.22.\", FutureWarning)\n"
     ]
    },
    {
     "name": "stdout",
     "output_type": "stream",
     "text": [
      "<class 'sklearn.linear_model.logistic.LogisticRegression'>\n",
      "score =  0.5467836257309941\n",
      "DeFinetti 0.5614048484661566\n",
      "LogLoss 0.948921417551143\n",
      "Accuracy Score 0.5467836257309941\n",
      "<class 'sklearn.ensemble.forest.RandomForestClassifier'>\n",
      "score =  0.5467836257309941\n",
      "DeFinetti 0.5931286549707596\n",
      "LogLoss 2.554520722056742\n",
      "Accuracy Score 0.5467836257309941\n",
      "<class 'sklearn.neighbors.classification.KNeighborsClassifier'>\n",
      "score =  0.45321637426900585\n",
      "DeFinetti 0.6876023391812862\n",
      "LogLoss 5.096439258252408\n",
      "Accuracy Score 0.45321637426900585\n",
      "<class 'sklearn.naive_bayes.GaussianNB'>\n",
      "score =  0.5628654970760234\n",
      "DeFinetti 0.5419413091711198\n",
      "LogLoss 0.9469570652228848\n",
      "Accuracy Score 0.5628654970760234\n",
      "<class 'sklearn.tree.tree.DecisionTreeClassifier'>\n",
      "score =  0.4444444444444444\n",
      "DeFinetti 1.1111111111111112\n",
      "LogLoss 19.18820910828371\n",
      "Accuracy Score 0.4444444444444444\n",
      "<class 'xgboost.sklearn.XGBClassifier'>\n",
      "score =  0.6023391812865497\n",
      "DeFinetti 0.5262066855963964\n",
      "LogLoss 0.8904415433518371\n",
      "Accuracy Score 0.6023391812865497\n"
     ]
    }
   ],
   "source": [
    "X_train,X_test,X_val = X_train[embeded_rf_feature],X_test[embeded_rf_feature],X_val[embeded_rf_feature]\n",
    "clfs = [LogisticRegression(random_state=42), RandomForestClassifier(random_state=42),\n",
    "        KNeighborsClassifier(),GaussianNB(),DecisionTreeClassifier(random_state=42),XGBClassifier(seed=42)]\n",
    "for clf in clfs:\n",
    "    clf.fit(X_train, y_train)\n",
    "    print(type(clf))\n",
    "    print(\"score = \", clf.score(X_test, y_test),)\n",
    "    print('DeFinetti',deFinetti(clf,X_test,y_test))\n",
    "    print('LogLoss',log_loss(y_test,clf.predict_proba(X_test)))\n",
    "    print('Accuracy Score',accuracy_score(y_test, clf.predict(X_test)))"
   ]
  },
  {
   "cell_type": "code",
   "execution_count": 109,
   "metadata": {},
   "outputs": [
    {
     "name": "stdout",
     "output_type": "stream",
     "text": [
      "3659 3420 239 3659\n"
     ]
    },
    {
     "data": {
      "text/plain": [
       "29"
      ]
     },
     "execution_count": 109,
     "metadata": {},
     "output_type": "execute_result"
    }
   ],
   "source": [
    "data = df[(df.Season <= 2018)]\n",
    "validate = df[df.Season == 2019]\n",
    "validate= validate.drop(['HomeTeam','AwayTeam','FTHG','FTAG','B365H','B365D','B365A','Season','Cle_eq_H','Cle_eq_A','Saison','Month'],axis=1)\n",
    "validate = validate.drop(['PMHT','RTHT','TGHH','TGHA','TGHT','TGAH','TGAA','TGAT','TGAHH','TGAHA','TGAHT','TGAAH','TGAAA',\n",
    "                       'PiRatHH2', 'PiRatHA2', 'PiRatHO2', 'PiRatAH2', 'PiRatAA2', 'PiRatAO2',\n",
    "                       'PiRatHH', 'PiRatHA', 'PiRatAH', 'PiRatAA','MaherXG_PredD','MaherXG_PredAW','MaherXG_PredHW','Defense_H','Milieu_H','Defense_A','Milieu_A',\n",
    "                       'DRH','DRA','LRH','LRA','PMAT','Attaque_H','Attaque_A'],axis=1)\n",
    "data = data.drop(['HomeTeam','AwayTeam','FTHG','FTAG','B365H','B365D','B365A','Season','Cle_eq_H','Cle_eq_A','Saison','Month'],axis=1)\n",
    "data=data.drop(['PMHT','RTHT','TGHH','TGHA','TGHT','TGAH','TGAA','TGAT','TGAHH','TGAHA','TGAHT','TGAAH','TGAAA',\n",
    "                       'PiRatHH2', 'PiRatHA2', 'PiRatHO2', 'PiRatAH2', 'PiRatAA2', 'PiRatAO2',\n",
    "                       'PiRatHH', 'PiRatHA', 'PiRatAH', 'PiRatAA','MaherXG_PredD','MaherXG_PredAW','MaherXG_PredHW','Defense_H','Milieu_H','Defense_A','Milieu_A',\n",
    "                       'DRH','DRA','LRH','LRA','PMAT','Attaque_H','Attaque_A'],axis=1)\n",
    "y_val=validate.FTR\n",
    "X_val = validate.drop('FTR',axis=1)\n",
    "print(len(df),len(data),len(validate),len(data)+len(validate))\n",
    "from sklearn.model_selection import train_test_split\n",
    "y=data.FTR\n",
    "X=data.drop('FTR',axis=1)\n",
    "X_train, X_test, y_train, y_test = train_test_split(X, y, test_size=0.2, random_state=42)\n",
    "len(X_train.columns)"
   ]
  },
  {
   "cell_type": "code",
   "execution_count": 110,
   "metadata": {},
   "outputs": [
    {
     "name": "stderr",
     "output_type": "stream",
     "text": [
      "C:\\Users\\franc\\AppData\\Local\\Continuum\\anaconda3\\lib\\site-packages\\sklearn\\linear_model\\logistic.py:469: FutureWarning: Default multi_class will be changed to 'auto' in 0.22. Specify the multi_class option to silence this warning.\n",
      "  \"this warning.\", FutureWarning)\n",
      "C:\\Users\\franc\\AppData\\Local\\Continuum\\anaconda3\\lib\\site-packages\\sklearn\\svm\\base.py:929: ConvergenceWarning: Liblinear failed to converge, increase the number of iterations.\n",
      "  \"the number of iterations.\", ConvergenceWarning)\n"
     ]
    },
    {
     "data": {
      "text/plain": [
       "SelectFromModel(estimator=LogisticRegression(C=10, class_weight=None,\n",
       "                                             dual=False, fit_intercept=True,\n",
       "                                             intercept_scaling=1, l1_ratio=None,\n",
       "                                             max_iter=100, multi_class='warn',\n",
       "                                             n_jobs=None, penalty='l1',\n",
       "                                             random_state=42,\n",
       "                                             solver='liblinear', tol=0.0001,\n",
       "                                             verbose=0, warm_start=False),\n",
       "                max_features=None, norm_order=1, prefit=False,\n",
       "                threshold='1.25*median')"
      ]
     },
     "execution_count": 110,
     "metadata": {},
     "output_type": "execute_result"
    }
   ],
   "source": [
    "embeded_LR_selector = SelectFromModel(LogisticRegression(random_state=42,C= 10,penalty='l1',solver= 'liblinear'), threshold='1.25*median')\n",
    "embeded_LR_selector.fit(X_train, y_train)"
   ]
  },
  {
   "cell_type": "code",
   "execution_count": 111,
   "metadata": {},
   "outputs": [
    {
     "name": "stdout",
     "output_type": "stream",
     "text": [
      "12 ['WRH', 'WRA', 'WRAH', 'WRAA', 'PiRatHO', 'PiRatAO', 'MaherXG_HG', 'MaherXG_AG', 'AvgValue_H', 'AvgA_H', 'AvgValue_A', 'AvgA_A'] selected features\n"
     ]
    }
   ],
   "source": [
    "embeded_LR_support = embeded_LR_selector.get_support()\n",
    "embeded_LR_feature = X.loc[:,embeded_LR_support].columns.tolist()\n",
    "print(str(len(embeded_LR_feature)),embeded_LR_feature, 'selected features')"
   ]
  },
  {
   "cell_type": "code",
   "execution_count": 112,
   "metadata": {},
   "outputs": [
    {
     "name": "stderr",
     "output_type": "stream",
     "text": [
      "C:\\Users\\franc\\AppData\\Local\\Continuum\\anaconda3\\lib\\site-packages\\sklearn\\linear_model\\logistic.py:432: FutureWarning: Default solver will be changed to 'lbfgs' in 0.22. Specify a solver to silence this warning.\n",
      "  FutureWarning)\n",
      "C:\\Users\\franc\\AppData\\Local\\Continuum\\anaconda3\\lib\\site-packages\\sklearn\\linear_model\\logistic.py:469: FutureWarning: Default multi_class will be changed to 'auto' in 0.22. Specify the multi_class option to silence this warning.\n",
      "  \"this warning.\", FutureWarning)\n",
      "C:\\Users\\franc\\AppData\\Local\\Continuum\\anaconda3\\lib\\site-packages\\sklearn\\ensemble\\forest.py:245: FutureWarning: The default value of n_estimators will change from 10 in version 0.20 to 100 in 0.22.\n",
      "  \"10 in version 0.20 to 100 in 0.22.\", FutureWarning)\n"
     ]
    },
    {
     "name": "stdout",
     "output_type": "stream",
     "text": [
      "<class 'sklearn.linear_model.logistic.LogisticRegression'>\n",
      "score =  0.554093567251462\n",
      "DeFinetti 0.5605652084569243\n",
      "LogLoss 0.9467998864425152\n",
      "Accuracy Score 0.554093567251462\n",
      "<class 'sklearn.ensemble.forest.RandomForestClassifier'>\n",
      "score =  0.5277777777777778\n",
      "DeFinetti 0.5967251461988298\n",
      "LogLoss 1.9583514757406446\n",
      "Accuracy Score 0.5277777777777778\n",
      "<class 'sklearn.neighbors.classification.KNeighborsClassifier'>\n",
      "score =  0.4824561403508772\n",
      "DeFinetti 0.6705263157894742\n",
      "LogLoss 5.544633091385574\n",
      "Accuracy Score 0.4824561403508772\n",
      "<class 'sklearn.naive_bayes.GaussianNB'>\n",
      "score =  0.5570175438596491\n",
      "DeFinetti 0.592191275443462\n",
      "LogLoss 1.0936007451439764\n",
      "Accuracy Score 0.5570175438596491\n",
      "<class 'sklearn.tree.tree.DecisionTreeClassifier'>\n",
      "score =  0.489766081871345\n",
      "DeFinetti 1.0204678362573099\n",
      "LogLoss 17.622855207344777\n",
      "Accuracy Score 0.489766081871345\n",
      "<class 'xgboost.sklearn.XGBClassifier'>\n",
      "score =  0.6008771929824561\n",
      "DeFinetti 0.5234713204053529\n",
      "LogLoss 0.8876367785439593\n",
      "Accuracy Score 0.6008771929824561\n"
     ]
    }
   ],
   "source": [
    "X_train,X_test,X_val = X_train[embeded_LR_feature],X_test[embeded_LR_feature],X_val[embeded_LR_feature]\n",
    "clfs = [LogisticRegression(random_state=42), RandomForestClassifier(random_state=42),\n",
    "        KNeighborsClassifier(),GaussianNB(),DecisionTreeClassifier(random_state=42),XGBClassifier(seed=42)]\n",
    "for clf in clfs:\n",
    "    clf.fit(X_train, y_train)\n",
    "    print(type(clf))\n",
    "    print(\"score = \", clf.score(X_test, y_test),)\n",
    "    print('DeFinetti',deFinetti(clf,X_test,y_test))\n",
    "    print('LogLoss',log_loss(y_test,clf.predict_proba(X_test)))\n",
    "    print('Accuracy Score',accuracy_score(y_test, clf.predict(X_test)))"
   ]
  },
  {
   "cell_type": "code",
   "execution_count": 113,
   "metadata": {},
   "outputs": [
    {
     "name": "stdout",
     "output_type": "stream",
     "text": [
      "3659 3420 239 3659\n"
     ]
    },
    {
     "data": {
      "text/plain": [
       "29"
      ]
     },
     "execution_count": 113,
     "metadata": {},
     "output_type": "execute_result"
    }
   ],
   "source": [
    "data = df[(df.Season <= 2018)]\n",
    "validate = df[df.Season == 2019]\n",
    "validate= validate.drop(['HomeTeam','AwayTeam','FTHG','FTAG','B365H','B365D','B365A','Season','Cle_eq_H','Cle_eq_A','Saison','Month'],axis=1)\n",
    "validate = validate.drop(['PMHT','RTHT','TGHH','TGHA','TGHT','TGAH','TGAA','TGAT','TGAHH','TGAHA','TGAHT','TGAAH','TGAAA',\n",
    "                       'PiRatHH2', 'PiRatHA2', 'PiRatHO2', 'PiRatAH2', 'PiRatAA2', 'PiRatAO2',\n",
    "                       'PiRatHH', 'PiRatHA', 'PiRatAH', 'PiRatAA','MaherXG_PredD','MaherXG_PredAW','MaherXG_PredHW','Defense_H','Milieu_H','Defense_A','Milieu_A',\n",
    "                       'DRH','DRA','LRH','LRA','PMAT','Attaque_H','Attaque_A'],axis=1)\n",
    "data = data.drop(['HomeTeam','AwayTeam','FTHG','FTAG','B365H','B365D','B365A','Season','Cle_eq_H','Cle_eq_A','Saison','Month'],axis=1)\n",
    "data=data.drop(['PMHT','RTHT','TGHH','TGHA','TGHT','TGAH','TGAA','TGAT','TGAHH','TGAHA','TGAHT','TGAAH','TGAAA',\n",
    "                       'PiRatHH2', 'PiRatHA2', 'PiRatHO2', 'PiRatAH2', 'PiRatAA2', 'PiRatAO2',\n",
    "                       'PiRatHH', 'PiRatHA', 'PiRatAH', 'PiRatAA','MaherXG_PredD','MaherXG_PredAW','MaherXG_PredHW','Defense_H','Milieu_H','Defense_A','Milieu_A',\n",
    "                       'DRH','DRA','LRH','LRA','PMAT','Attaque_H','Attaque_A'],axis=1)\n",
    "y_val=validate.FTR\n",
    "X_val = validate.drop('FTR',axis=1)\n",
    "print(len(df),len(data),len(validate),len(data)+len(validate))\n",
    "from sklearn.model_selection import train_test_split\n",
    "y=data.FTR\n",
    "X=data.drop('FTR',axis=1)\n",
    "X_train, X_test, y_train, y_test = train_test_split(X, y, test_size=0.2, random_state=42)\n",
    "len(X_train.columns)"
   ]
  },
  {
   "cell_type": "code",
   "execution_count": 114,
   "metadata": {},
   "outputs": [
    {
     "data": {
      "text/plain": [
       "SelectFromModel(estimator=XGBClassifier(base_score=0.5, booster='gbtree',\n",
       "                                        colsample_bylevel=1, colsample_bynode=1,\n",
       "                                        colsample_bytree=1, gamma=0,\n",
       "                                        learning_rate=0.1, max_delta_step=0,\n",
       "                                        max_depth=3, min_child_weight=1,\n",
       "                                        missing=None, n_estimators=100,\n",
       "                                        n_jobs=1, nthread=None,\n",
       "                                        objective='binary:logistic',\n",
       "                                        random_state=0, reg_alpha=0,\n",
       "                                        reg_lambda=1, scale_pos_weight=1,\n",
       "                                        seed=42, silent=None, subsample=1,\n",
       "                                        verbosity=1),\n",
       "                max_features=None, norm_order=1, prefit=False,\n",
       "                threshold='1.25*median')"
      ]
     },
     "execution_count": 114,
     "metadata": {},
     "output_type": "execute_result"
    }
   ],
   "source": [
    "embeded_xgb_selector = SelectFromModel(XGBClassifier(seed=42), threshold='1.25*median')\n",
    "embeded_xgb_selector.fit(X_train, y_train)"
   ]
  },
  {
   "cell_type": "code",
   "execution_count": 115,
   "metadata": {},
   "outputs": [
    {
     "name": "stdout",
     "output_type": "stream",
     "text": [
      "8 ['WRH', 'HTGD', 'EFA', 'STAT', 'PiRatHO', 'PiRatAO', 'AvgValue_H', 'AvgValue_A'] selected features\n"
     ]
    }
   ],
   "source": [
    "embeded_xgb_support = embeded_xgb_selector.get_support()\n",
    "embeded_xgb_feature = X.loc[:,embeded_xgb_support].columns.tolist()\n",
    "print(str(len(embeded_xgb_feature)),embeded_xgb_feature, 'selected features')"
   ]
  },
  {
   "cell_type": "code",
   "execution_count": 116,
   "metadata": {},
   "outputs": [
    {
     "name": "stderr",
     "output_type": "stream",
     "text": [
      "C:\\Users\\franc\\AppData\\Local\\Continuum\\anaconda3\\lib\\site-packages\\sklearn\\linear_model\\logistic.py:432: FutureWarning: Default solver will be changed to 'lbfgs' in 0.22. Specify a solver to silence this warning.\n",
      "  FutureWarning)\n",
      "C:\\Users\\franc\\AppData\\Local\\Continuum\\anaconda3\\lib\\site-packages\\sklearn\\linear_model\\logistic.py:469: FutureWarning: Default multi_class will be changed to 'auto' in 0.22. Specify the multi_class option to silence this warning.\n",
      "  \"this warning.\", FutureWarning)\n",
      "C:\\Users\\franc\\AppData\\Local\\Continuum\\anaconda3\\lib\\site-packages\\sklearn\\ensemble\\forest.py:245: FutureWarning: The default value of n_estimators will change from 10 in version 0.20 to 100 in 0.22.\n",
      "  \"10 in version 0.20 to 100 in 0.22.\", FutureWarning)\n"
     ]
    },
    {
     "name": "stdout",
     "output_type": "stream",
     "text": [
      "<class 'sklearn.linear_model.logistic.LogisticRegression'>\n",
      "score =  0.5482456140350878\n",
      "DeFinetti 0.5616801658773686\n",
      "LogLoss 0.9487657309686011\n",
      "Accuracy Score 0.5482456140350878\n",
      "<class 'sklearn.ensemble.forest.RandomForestClassifier'>\n",
      "score =  0.5599415204678363\n",
      "DeFinetti 0.5816666666666659\n",
      "LogLoss 2.0783563036063954\n",
      "Accuracy Score 0.5599415204678363\n",
      "<class 'sklearn.neighbors.classification.KNeighborsClassifier'>\n",
      "score =  0.4692982456140351\n",
      "DeFinetti 0.6636257309941526\n",
      "LogLoss 4.644028959496029\n",
      "Accuracy Score 0.4692982456140351\n",
      "<class 'sklearn.naive_bayes.GaussianNB'>\n",
      "score =  0.5657894736842105\n",
      "DeFinetti 0.5629227139928248\n",
      "LogLoss 0.9882604789515653\n",
      "Accuracy Score 0.5657894736842105\n",
      "<class 'sklearn.tree.tree.DecisionTreeClassifier'>\n",
      "score =  0.4692982456140351\n",
      "DeFinetti 1.0614035087719298\n",
      "LogLoss 18.32978922712365\n",
      "Accuracy Score 0.4692982456140351\n",
      "<class 'xgboost.sklearn.XGBClassifier'>\n",
      "score =  0.6125730994152047\n",
      "DeFinetti 0.5170444546516603\n",
      "LogLoss 0.8736242039880732\n",
      "Accuracy Score 0.6125730994152047\n"
     ]
    }
   ],
   "source": [
    "X_train,X_test,X_val = X_train[embeded_xgb_feature],X_test[embeded_xgb_feature],X_val[embeded_xgb_feature]\n",
    "clfs = [LogisticRegression(random_state=42), RandomForestClassifier(random_state=42),\n",
    "        KNeighborsClassifier(),GaussianNB(),DecisionTreeClassifier(random_state=42),XGBClassifier(seed=42)]\n",
    "for clf in clfs:\n",
    "    clf.fit(X_train, y_train)\n",
    "    print(type(clf))\n",
    "    print(\"score = \", clf.score(X_test, y_test),)\n",
    "    print('DeFinetti',deFinetti(clf,X_test,y_test))\n",
    "    print('LogLoss',log_loss(y_test,clf.predict_proba(X_test)))\n",
    "    print('Accuracy Score',accuracy_score(y_test, clf.predict(X_test)))"
   ]
  },
  {
   "cell_type": "code",
   "execution_count": 121,
   "metadata": {},
   "outputs": [
    {
     "name": "stdout",
     "output_type": "stream",
     "text": [
      "3659 3420 239 3659\n"
     ]
    },
    {
     "data": {
      "text/plain": [
       "29"
      ]
     },
     "execution_count": 121,
     "metadata": {},
     "output_type": "execute_result"
    }
   ],
   "source": [
    "data = df[(df.Season <= 2018)]\n",
    "validate = df[df.Season == 2019]\n",
    "validate= validate.drop(['HomeTeam','AwayTeam','FTHG','FTAG','B365H','B365D','B365A','Season','Cle_eq_H','Cle_eq_A','Saison','Month'],axis=1)\n",
    "validate = validate.drop(['PMHT','RTHT','TGHH','TGHA','TGHT','TGAH','TGAA','TGAT','TGAHH','TGAHA','TGAHT','TGAAH','TGAAA',\n",
    "                       'PiRatHH2', 'PiRatHA2', 'PiRatHO2', 'PiRatAH2', 'PiRatAA2', 'PiRatAO2',\n",
    "                       'PiRatHH', 'PiRatHA', 'PiRatAH', 'PiRatAA','MaherXG_PredD','MaherXG_PredAW','MaherXG_PredHW','Defense_H','Milieu_H','Defense_A','Milieu_A',\n",
    "                       'DRH','DRA','LRH','LRA','PMAT','Attaque_H','Attaque_A'],axis=1)\n",
    "data = data.drop(['HomeTeam','AwayTeam','FTHG','FTAG','B365H','B365D','B365A','Season','Cle_eq_H','Cle_eq_A','Saison','Month'],axis=1)\n",
    "data=data.drop(['PMHT','RTHT','TGHH','TGHA','TGHT','TGAH','TGAA','TGAT','TGAHH','TGAHA','TGAHT','TGAAH','TGAAA',\n",
    "                       'PiRatHH2', 'PiRatHA2', 'PiRatHO2', 'PiRatAH2', 'PiRatAA2', 'PiRatAO2',\n",
    "                       'PiRatHH', 'PiRatHA', 'PiRatAH', 'PiRatAA','MaherXG_PredD','MaherXG_PredAW','MaherXG_PredHW','Defense_H','Milieu_H','Defense_A','Milieu_A',\n",
    "                       'DRH','DRA','LRH','LRA','PMAT','Attaque_H','Attaque_A'],axis=1)\n",
    "y_val=validate.FTR\n",
    "X_val = validate.drop('FTR',axis=1)\n",
    "print(len(df),len(data),len(validate),len(data)+len(validate))\n",
    "from sklearn.model_selection import train_test_split\n",
    "y=data.FTR\n",
    "X=data.drop('FTR',axis=1)\n",
    "X_train, X_test, y_train, y_test = train_test_split(X, y, test_size=0.2, random_state=42)\n",
    "f_names=X.columns\n",
    "len(X_train.columns)"
   ]
  },
  {
   "cell_type": "code",
   "execution_count": 118,
   "metadata": {},
   "outputs": [
    {
     "data": {
      "text/plain": [
       "SelectFromModel(estimator=LGBMClassifier(boosting_type='gbdt',\n",
       "                                         class_weight=None,\n",
       "                                         colsample_bytree=0.2,\n",
       "                                         importance_type='split',\n",
       "                                         learning_rate=0.05, max_depth=-1,\n",
       "                                         min_child_samples=20,\n",
       "                                         min_child_weight=40,\n",
       "                                         min_split_gain=0.01, n_estimators=500,\n",
       "                                         n_jobs=-1, num_leaves=32,\n",
       "                                         objective=None, random_state=42,\n",
       "                                         reg_alpha=3, reg_lambda=1, silent=True,\n",
       "                                         subsample=1.0,\n",
       "                                         subsample_for_bin=200000,\n",
       "                                         subsample_freq=0),\n",
       "                max_features=None, norm_order=1, prefit=False,\n",
       "                threshold='1.25*median')"
      ]
     },
     "execution_count": 118,
     "metadata": {},
     "output_type": "execute_result"
    }
   ],
   "source": [
    "lgbc=LGBMClassifier(n_estimators=500, learning_rate=0.05, num_leaves=32, colsample_bytree=0.2,\n",
    "            reg_alpha=3, reg_lambda=1, min_split_gain=0.01, min_child_weight=40,random_state=42)\n",
    "embeded_lgb_selector = SelectFromModel(lgbc, threshold='1.25*median')\n",
    "embeded_lgb_selector.fit(X_train, y_train)"
   ]
  },
  {
   "cell_type": "code",
   "execution_count": 119,
   "metadata": {},
   "outputs": [
    {
     "name": "stdout",
     "output_type": "stream",
     "text": [
      "7 ['TGAAT', 'PiRatHO', 'PiRatAO', 'MaherXG_HG', 'MaherXG_AG', 'AvgValue_H', 'AvgA_H'] selected features\n"
     ]
    }
   ],
   "source": [
    "embeded_lgb_support = embeded_lgb_selector.get_support()\n",
    "embeded_lgb_feature = X.loc[:,embeded_lgb_support].columns.tolist()\n",
    "print(str(len(embeded_lgb_feature)),embeded_lgb_feature,'selected features')"
   ]
  },
  {
   "cell_type": "code",
   "execution_count": 120,
   "metadata": {},
   "outputs": [
    {
     "name": "stdout",
     "output_type": "stream",
     "text": [
      "<class 'sklearn.linear_model.logistic.LogisticRegression'>\n",
      "score =  0.5102339181286549\n",
      "DeFinetti 0.5843769981638312\n",
      "LogLoss 0.9813175191055249\n",
      "Accuracy Score 0.5102339181286549\n"
     ]
    },
    {
     "name": "stderr",
     "output_type": "stream",
     "text": [
      "C:\\Users\\franc\\AppData\\Local\\Continuum\\anaconda3\\lib\\site-packages\\sklearn\\linear_model\\logistic.py:432: FutureWarning: Default solver will be changed to 'lbfgs' in 0.22. Specify a solver to silence this warning.\n",
      "  FutureWarning)\n",
      "C:\\Users\\franc\\AppData\\Local\\Continuum\\anaconda3\\lib\\site-packages\\sklearn\\linear_model\\logistic.py:469: FutureWarning: Default multi_class will be changed to 'auto' in 0.22. Specify the multi_class option to silence this warning.\n",
      "  \"this warning.\", FutureWarning)\n",
      "C:\\Users\\franc\\AppData\\Local\\Continuum\\anaconda3\\lib\\site-packages\\sklearn\\ensemble\\forest.py:245: FutureWarning: The default value of n_estimators will change from 10 in version 0.20 to 100 in 0.22.\n",
      "  \"10 in version 0.20 to 100 in 0.22.\", FutureWarning)\n"
     ]
    },
    {
     "name": "stdout",
     "output_type": "stream",
     "text": [
      "<class 'sklearn.ensemble.forest.RandomForestClassifier'>\n",
      "score =  0.4853801169590643\n",
      "DeFinetti 0.6142105263157889\n",
      "LogLoss 2.256938178818614\n",
      "Accuracy Score 0.4853801169590643\n",
      "<class 'sklearn.neighbors.classification.KNeighborsClassifier'>\n",
      "score =  0.42543859649122806\n",
      "DeFinetti 0.7294736842105258\n",
      "LogLoss 5.549149860196458\n",
      "Accuracy Score 0.42543859649122806\n",
      "<class 'sklearn.naive_bayes.GaussianNB'>\n",
      "score =  0.49853801169590645\n",
      "DeFinetti 0.5788706226005197\n",
      "LogLoss 1.0127329056241474\n",
      "Accuracy Score 0.49853801169590645\n",
      "<class 'sklearn.tree.tree.DecisionTreeClassifier'>\n",
      "score =  0.4692982456140351\n",
      "DeFinetti 1.0614035087719298\n",
      "LogLoss 18.32978922712365\n",
      "Accuracy Score 0.4692982456140351\n",
      "<class 'xgboost.sklearn.XGBClassifier'>\n",
      "score =  0.5745614035087719\n",
      "DeFinetti 0.5418985966462642\n",
      "LogLoss 0.9111642941277016\n",
      "Accuracy Score 0.5745614035087719\n"
     ]
    }
   ],
   "source": [
    "X_train,X_test,X_val = X_train[embeded_lgb_feature],X_test[embeded_lgb_feature],X_val[embeded_lgb_feature]\n",
    "clfs = [LogisticRegression(random_state=42), RandomForestClassifier(random_state=42),\n",
    "        KNeighborsClassifier(),GaussianNB(),DecisionTreeClassifier(random_state=42),XGBClassifier(seed=42)]\n",
    "for clf in clfs:\n",
    "    clf.fit(X_train, y_train)\n",
    "    print(type(clf))\n",
    "    print(\"score = \", clf.score(X_test, y_test),)\n",
    "    print('DeFinetti',deFinetti(clf,X_test,y_test))\n",
    "    print('LogLoss',log_loss(y_test,clf.predict_proba(X_test)))\n",
    "    print('Accuracy Score',accuracy_score(y_test, clf.predict(X_test)))"
   ]
  },
  {
   "cell_type": "markdown",
   "metadata": {},
   "source": [
    "## Les variables que l'on va choisir pour le modèle réduit"
   ]
  },
  {
   "cell_type": "code",
   "execution_count": 143,
   "metadata": {},
   "outputs": [
    {
     "data": {
      "text/html": [
       "<div>\n",
       "<style scoped>\n",
       "    .dataframe tbody tr th:only-of-type {\n",
       "        vertical-align: middle;\n",
       "    }\n",
       "\n",
       "    .dataframe tbody tr th {\n",
       "        vertical-align: top;\n",
       "    }\n",
       "\n",
       "    .dataframe thead th {\n",
       "        text-align: right;\n",
       "    }\n",
       "</style>\n",
       "<table border=\"1\" class=\"dataframe\">\n",
       "  <thead>\n",
       "    <tr style=\"text-align: right;\">\n",
       "      <th></th>\n",
       "      <th>Feature</th>\n",
       "      <th>RFE</th>\n",
       "      <th>RegLog</th>\n",
       "      <th>XGB</th>\n",
       "      <th>Random Forest</th>\n",
       "      <th>LightGBM</th>\n",
       "      <th>Total</th>\n",
       "    </tr>\n",
       "  </thead>\n",
       "  <tbody>\n",
       "    <tr>\n",
       "      <th>1</th>\n",
       "      <td>PiRatHO</td>\n",
       "      <td>True</td>\n",
       "      <td>True</td>\n",
       "      <td>True</td>\n",
       "      <td>True</td>\n",
       "      <td>True</td>\n",
       "      <td>5</td>\n",
       "    </tr>\n",
       "    <tr>\n",
       "      <th>2</th>\n",
       "      <td>PiRatAO</td>\n",
       "      <td>True</td>\n",
       "      <td>True</td>\n",
       "      <td>True</td>\n",
       "      <td>True</td>\n",
       "      <td>True</td>\n",
       "      <td>5</td>\n",
       "    </tr>\n",
       "    <tr>\n",
       "      <th>3</th>\n",
       "      <td>AvgValue_H</td>\n",
       "      <td>True</td>\n",
       "      <td>True</td>\n",
       "      <td>True</td>\n",
       "      <td>True</td>\n",
       "      <td>True</td>\n",
       "      <td>5</td>\n",
       "    </tr>\n",
       "    <tr>\n",
       "      <th>4</th>\n",
       "      <td>MaherXG_HG</td>\n",
       "      <td>True</td>\n",
       "      <td>True</td>\n",
       "      <td>False</td>\n",
       "      <td>True</td>\n",
       "      <td>True</td>\n",
       "      <td>4</td>\n",
       "    </tr>\n",
       "    <tr>\n",
       "      <th>5</th>\n",
       "      <td>AvgValue_A</td>\n",
       "      <td>True</td>\n",
       "      <td>True</td>\n",
       "      <td>True</td>\n",
       "      <td>True</td>\n",
       "      <td>False</td>\n",
       "      <td>4</td>\n",
       "    </tr>\n",
       "    <tr>\n",
       "      <th>6</th>\n",
       "      <td>WRH</td>\n",
       "      <td>True</td>\n",
       "      <td>True</td>\n",
       "      <td>True</td>\n",
       "      <td>False</td>\n",
       "      <td>False</td>\n",
       "      <td>3</td>\n",
       "    </tr>\n",
       "    <tr>\n",
       "      <th>7</th>\n",
       "      <td>MaherXG_AG</td>\n",
       "      <td>True</td>\n",
       "      <td>True</td>\n",
       "      <td>False</td>\n",
       "      <td>False</td>\n",
       "      <td>True</td>\n",
       "      <td>3</td>\n",
       "    </tr>\n",
       "    <tr>\n",
       "      <th>8</th>\n",
       "      <td>WRAH</td>\n",
       "      <td>True</td>\n",
       "      <td>True</td>\n",
       "      <td>False</td>\n",
       "      <td>False</td>\n",
       "      <td>False</td>\n",
       "      <td>2</td>\n",
       "    </tr>\n",
       "    <tr>\n",
       "      <th>9</th>\n",
       "      <td>WRAA</td>\n",
       "      <td>True</td>\n",
       "      <td>True</td>\n",
       "      <td>False</td>\n",
       "      <td>False</td>\n",
       "      <td>False</td>\n",
       "      <td>2</td>\n",
       "    </tr>\n",
       "    <tr>\n",
       "      <th>10</th>\n",
       "      <td>WRA</td>\n",
       "      <td>True</td>\n",
       "      <td>True</td>\n",
       "      <td>False</td>\n",
       "      <td>False</td>\n",
       "      <td>False</td>\n",
       "      <td>2</td>\n",
       "    </tr>\n",
       "    <tr>\n",
       "      <th>11</th>\n",
       "      <td>AvgA_H</td>\n",
       "      <td>False</td>\n",
       "      <td>True</td>\n",
       "      <td>False</td>\n",
       "      <td>False</td>\n",
       "      <td>True</td>\n",
       "      <td>2</td>\n",
       "    </tr>\n",
       "    <tr>\n",
       "      <th>12</th>\n",
       "      <td>TGAAT</td>\n",
       "      <td>False</td>\n",
       "      <td>False</td>\n",
       "      <td>False</td>\n",
       "      <td>False</td>\n",
       "      <td>True</td>\n",
       "      <td>1</td>\n",
       "    </tr>\n",
       "    <tr>\n",
       "      <th>13</th>\n",
       "      <td>STAT</td>\n",
       "      <td>False</td>\n",
       "      <td>False</td>\n",
       "      <td>True</td>\n",
       "      <td>False</td>\n",
       "      <td>False</td>\n",
       "      <td>1</td>\n",
       "    </tr>\n",
       "    <tr>\n",
       "      <th>14</th>\n",
       "      <td>HTGD</td>\n",
       "      <td>False</td>\n",
       "      <td>False</td>\n",
       "      <td>True</td>\n",
       "      <td>False</td>\n",
       "      <td>False</td>\n",
       "      <td>1</td>\n",
       "    </tr>\n",
       "    <tr>\n",
       "      <th>15</th>\n",
       "      <td>EFA</td>\n",
       "      <td>False</td>\n",
       "      <td>False</td>\n",
       "      <td>True</td>\n",
       "      <td>False</td>\n",
       "      <td>False</td>\n",
       "      <td>1</td>\n",
       "    </tr>\n",
       "    <tr>\n",
       "      <th>16</th>\n",
       "      <td>AvgA_A</td>\n",
       "      <td>False</td>\n",
       "      <td>True</td>\n",
       "      <td>False</td>\n",
       "      <td>False</td>\n",
       "      <td>False</td>\n",
       "      <td>1</td>\n",
       "    </tr>\n",
       "  </tbody>\n",
       "</table>\n",
       "</div>"
      ],
      "text/plain": [
       "       Feature    RFE  RegLog    XGB  Random Forest  LightGBM  Total\n",
       "1      PiRatHO   True    True   True           True      True      5\n",
       "2      PiRatAO   True    True   True           True      True      5\n",
       "3   AvgValue_H   True    True   True           True      True      5\n",
       "4   MaherXG_HG   True    True  False           True      True      4\n",
       "5   AvgValue_A   True    True   True           True     False      4\n",
       "6          WRH   True    True   True          False     False      3\n",
       "7   MaherXG_AG   True    True  False          False      True      3\n",
       "8         WRAH   True    True  False          False     False      2\n",
       "9         WRAA   True    True  False          False     False      2\n",
       "10         WRA   True    True  False          False     False      2\n",
       "11      AvgA_H  False    True  False          False      True      2\n",
       "12       TGAAT  False   False  False          False      True      1\n",
       "13        STAT  False   False   True          False     False      1\n",
       "14        HTGD  False   False   True          False     False      1\n",
       "15         EFA  False   False   True          False     False      1\n",
       "16      AvgA_A  False    True  False          False     False      1"
      ]
     },
     "execution_count": 143,
     "metadata": {},
     "output_type": "execute_result"
    }
   ],
   "source": [
    "feature_selection_df = pd.DataFrame({'Feature':f_names,'RFE':rfe_support, 'RegLog':embeded_LR_support,'XGB':embeded_xgb_support,\n",
    "                                    'Random Forest':embeded_rf_support, 'LightGBM':embeded_lgb_support})\n",
    "feature_selection_df['Total'] = np.sum(feature_selection_df, axis=1)\n",
    "feature_selection_df = feature_selection_df.sort_values(['Total','Feature'] , ascending=False)\n",
    "feature_selection_df.index = range(1, len(feature_selection_df)+1)\n",
    "choix = list(feature_selection_df[feature_selection_df.Total>0].Feature)\n",
    "feature_selection_df[feature_selection_df.Total>0]"
   ]
  },
  {
   "cell_type": "code",
   "execution_count": 186,
   "metadata": {},
   "outputs": [
    {
     "name": "stdout",
     "output_type": "stream",
     "text": [
      "3659 3420 239 3659\n"
     ]
    },
    {
     "data": {
      "text/plain": [
       "16"
      ]
     },
     "execution_count": 186,
     "metadata": {},
     "output_type": "execute_result"
    }
   ],
   "source": [
    "data = df[(df.Season <= 2018)]\n",
    "validate = df[df.Season == 2019]\n",
    "validate= validate.drop(['HomeTeam','AwayTeam','FTHG','FTAG','B365H','B365D','B365A','Season','Cle_eq_H','Cle_eq_A','Saison','Month'],axis=1)\n",
    "validate = validate.drop(['PMHT','RTHT','TGHH','TGHA','TGHT','TGAH','TGAA','TGAT','TGAHH','TGAHA','TGAHT','TGAAH','TGAAA',\n",
    "                       'PiRatHH2', 'PiRatHA2', 'PiRatHO2', 'PiRatAH2', 'PiRatAA2', 'PiRatAO2',\n",
    "                       'PiRatHH', 'PiRatHA', 'PiRatAH', 'PiRatAA','MaherXG_PredD','MaherXG_PredAW','MaherXG_PredHW','Defense_H','Milieu_H','Defense_A','Milieu_A',\n",
    "                       'DRH','DRA','LRH','LRA','PMAT','Attaque_H','Attaque_A'],axis=1)\n",
    "data = data.drop(['HomeTeam','AwayTeam','FTHG','FTAG','B365H','B365D','B365A','Season','Cle_eq_H','Cle_eq_A','Saison','Month'],axis=1)\n",
    "data=data.drop(['PMHT','RTHT','TGHH','TGHA','TGHT','TGAH','TGAA','TGAT','TGAHH','TGAHA','TGAHT','TGAAH','TGAAA',\n",
    "                       'PiRatHH2', 'PiRatHA2', 'PiRatHO2', 'PiRatAH2', 'PiRatAA2', 'PiRatAO2',\n",
    "                       'PiRatHH', 'PiRatHA', 'PiRatAH', 'PiRatAA','MaherXG_PredD','MaherXG_PredAW','MaherXG_PredHW','Defense_H','Milieu_H','Defense_A','Milieu_A',\n",
    "                       'DRH','DRA','LRH','LRA','PMAT','Attaque_H','Attaque_A'],axis=1)\n",
    "\n",
    "y_val=validate.FTR\n",
    "X_val = validate.drop('FTR',axis=1)\n",
    "print(len(df),len(data),len(validate),len(data)+len(validate))\n",
    "y=data.FTR\n",
    "X=data.drop('FTR',axis=1)\n",
    "X,X_val = X[choix],X_val[choix]\n",
    "X_train, X_test, y_train, y_test = train_test_split(X, y, test_size=0.2, random_state=42)\n",
    "len(X_train.columns)"
   ]
  },
  {
   "cell_type": "markdown",
   "metadata": {},
   "source": [
    "## Modèles réduit sans optimisation \n",
    "\n",
    "Pour comparatif"
   ]
  },
  {
   "cell_type": "code",
   "execution_count": 145,
   "metadata": {},
   "outputs": [
    {
     "name": "stderr",
     "output_type": "stream",
     "text": [
      "C:\\Users\\franc\\AppData\\Local\\Continuum\\anaconda3\\lib\\site-packages\\sklearn\\linear_model\\logistic.py:432: FutureWarning: Default solver will be changed to 'lbfgs' in 0.22. Specify a solver to silence this warning.\n",
      "  FutureWarning)\n",
      "C:\\Users\\franc\\AppData\\Local\\Continuum\\anaconda3\\lib\\site-packages\\sklearn\\linear_model\\logistic.py:469: FutureWarning: Default multi_class will be changed to 'auto' in 0.22. Specify the multi_class option to silence this warning.\n",
      "  \"this warning.\", FutureWarning)\n"
     ]
    },
    {
     "name": "stdout",
     "output_type": "stream",
     "text": [
      "<class 'sklearn.linear_model.logistic.LogisticRegression'>\n",
      "score =  0.5497076023391813\n",
      "DeFinetti 0.5610434878627891\n",
      "LogLoss 0.9474557454106455\n",
      "Accuracy Score 0.5497076023391813\n",
      "<class 'sklearn.ensemble.forest.RandomForestClassifier'>\n",
      "score =  0.5307017543859649\n"
     ]
    },
    {
     "name": "stderr",
     "output_type": "stream",
     "text": [
      "C:\\Users\\franc\\AppData\\Local\\Continuum\\anaconda3\\lib\\site-packages\\sklearn\\ensemble\\forest.py:245: FutureWarning: The default value of n_estimators will change from 10 in version 0.20 to 100 in 0.22.\n",
      "  \"10 in version 0.20 to 100 in 0.22.\", FutureWarning)\n"
     ]
    },
    {
     "name": "stdout",
     "output_type": "stream",
     "text": [
      "DeFinetti 0.5894736842105258\n",
      "LogLoss 1.9556878212268223\n",
      "Accuracy Score 0.5307017543859649\n",
      "<class 'sklearn.neighbors.classification.KNeighborsClassifier'>\n",
      "score =  0.4590643274853801\n",
      "DeFinetti 0.6595321637426909\n",
      "LogLoss 4.645858500223457\n",
      "Accuracy Score 0.4590643274853801\n",
      "<class 'sklearn.naive_bayes.GaussianNB'>\n",
      "score =  0.554093567251462\n",
      "DeFinetti 0.6202697590800876\n",
      "LogLoss 1.2105806356257747\n",
      "Accuracy Score 0.554093567251462\n",
      "<class 'sklearn.tree.tree.DecisionTreeClassifier'>\n",
      "score =  0.47368421052631576\n",
      "DeFinetti 1.0526315789473684\n",
      "LogLoss 18.178303365742465\n",
      "Accuracy Score 0.47368421052631576\n",
      "<class 'xgboost.sklearn.XGBClassifier'>\n",
      "score =  0.618421052631579\n",
      "DeFinetti 0.5197587363000347\n",
      "LogLoss 0.8805081646573562\n",
      "Accuracy Score 0.618421052631579\n"
     ]
    }
   ],
   "source": [
    "clfs = [LogisticRegression(random_state=42), RandomForestClassifier(random_state=42),\n",
    "        KNeighborsClassifier(),GaussianNB(),DecisionTreeClassifier(random_state=42),XGBClassifier(seed=42)]\n",
    "for clf in clfs:\n",
    "    clf.fit(X_train, y_train)\n",
    "    print(type(clf))\n",
    "    print(\"score = \", clf.score(X_test, y_test),)\n",
    "    print('DeFinetti',deFinetti(clf,X_test,y_test))\n",
    "    print('LogLoss',log_loss(y_test,clf.predict_proba(X_test)))\n",
    "    print('Accuracy Score',accuracy_score(y_test, clf.predict(X_test)))"
   ]
  },
  {
   "cell_type": "code",
   "execution_count": 146,
   "metadata": {},
   "outputs": [
    {
     "name": "stderr",
     "output_type": "stream",
     "text": [
      "C:\\Users\\franc\\AppData\\Local\\Continuum\\anaconda3\\lib\\site-packages\\sklearn\\svm\\base.py:193: FutureWarning: The default value of gamma will change from 'auto' to 'scale' in version 0.22 to account better for unscaled features. Set gamma explicitly to 'auto' or 'scale' to avoid this warning.\n",
      "  \"avoid this warning.\", FutureWarning)\n"
     ]
    },
    {
     "data": {
      "text/plain": [
       "SVC(C=1.0, cache_size=200, class_weight=None, coef0=0.0,\n",
       "    decision_function_shape='ovr', degree=3, gamma='auto_deprecated',\n",
       "    kernel='rbf', max_iter=-1, probability=True, random_state=None,\n",
       "    shrinking=True, tol=0.001, verbose=False)"
      ]
     },
     "execution_count": 146,
     "metadata": {},
     "output_type": "execute_result"
    }
   ],
   "source": [
    "svclassifier = SVC(probability=True)\n",
    "svclassifier.fit(X_train, y_train)"
   ]
  },
  {
   "cell_type": "code",
   "execution_count": 147,
   "metadata": {},
   "outputs": [
    {
     "name": "stdout",
     "output_type": "stream",
     "text": [
      "score =  0.5116959064327485\n",
      "DeFinetti 0.6133022628109781\n",
      "LogLoss 1.0236143277388225\n",
      "Accuracy Score 0.5116959064327485\n"
     ]
    }
   ],
   "source": [
    "print(\"score = \", svclassifier.score(X_test, y_test),)\n",
    "print('DeFinetti',deFinetti(svclassifier,X_test,y_test))\n",
    "print('LogLoss',log_loss(y_test,svclassifier.predict_proba(X_test)))\n",
    "print('Accuracy Score',accuracy_score(y_test, svclassifier.predict(X_test)))"
   ]
  },
  {
   "cell_type": "code",
   "execution_count": 148,
   "metadata": {},
   "outputs": [
    {
     "data": {
      "text/plain": [
       "Text(0.5, 1, 'SVM : Matrice de confusion')"
      ]
     },
     "execution_count": 148,
     "metadata": {},
     "output_type": "execute_result"
    },
    {
     "data": {
      "image/png": "[encoded data removed]",
      "text/plain": [
       "<Figure size 1080x288 with 6 Axes>"
      ]
     },
     "metadata": {
      "needs_background": "light"
     },
     "output_type": "display_data"
    }
   ],
   "source": [
    "plt.figure(figsize=(15,4))\n",
    "plt.subplot(131)\n",
    "matrix = confusion_matrix(y_test, clfs[0].predict(X_test))\n",
    "sns.heatmap(matrix/np.sum(matrix),annot=True,cbar=True,fmt='.2%', cmap=sns.diverging_palette(220, 10, as_cmap=True),\n",
    "            xticklabels=['Victoire Extérieur','Match Nul','Victoire Domicile'],\n",
    "            yticklabels=['Victoire Extérieur','Match Nul','Victoire Domicile']\n",
    "           )\n",
    "plt.ylabel('True Label')\n",
    "plt.xlabel('Predicted Label')\n",
    "plt.title('Régression Logistique : Matrice de confusion')\n",
    "plt.subplot(132)\n",
    "matrix = confusion_matrix(y_test, clfs[5].predict(X_test))\n",
    "sns.heatmap(matrix/np.sum(matrix),annot=True,cbar=True,fmt='.2%', cmap=sns.diverging_palette(220, 10, as_cmap=True),\n",
    "            xticklabels=['Victoire Extérieur','Match Nul','Victoire Domicile'],\n",
    "            yticklabels=['Victoire Extérieur','Match Nul','Victoire Domicile']\n",
    "           )\n",
    "plt.ylabel('True Label')\n",
    "plt.xlabel('Predicted Label')\n",
    "plt.title('XGBOOST : Matrice de confusion')\n",
    "plt.subplot(133)\n",
    "matrix = confusion_matrix(y_test, svclassifier.predict(X_test))\n",
    "sns.heatmap(matrix/np.sum(matrix),annot=True,cbar=True,fmt='.2%', cmap=sns.diverging_palette(220, 10, as_cmap=True),\n",
    "            xticklabels=['Victoire Extérieur','Match Nul','Victoire Domicile'],\n",
    "            yticklabels=['Victoire Extérieur','Match Nul','Victoire Domicile']\n",
    "           )\n",
    "plt.ylabel('True Label')\n",
    "plt.xlabel('Predicted Label')\n",
    "plt.subplots_adjust(wspace=1)\n",
    "plt.title('SVM : Matrice de confusion')"
   ]
  },
  {
   "cell_type": "markdown",
   "metadata": {},
   "source": [
    "## Optimisation du modèle réduit"
   ]
  },
  {
   "cell_type": "code",
   "execution_count": 151,
   "metadata": {},
   "outputs": [
    {
     "name": "stdout",
     "output_type": "stream",
     "text": [
      "Fitting 5 folds for each of 77 candidates, totalling 385 fits\n"
     ]
    },
    {
     "name": "stderr",
     "output_type": "stream",
     "text": [
      "[Parallel(n_jobs=-1)]: Using backend LokyBackend with 4 concurrent workers.\n",
      "[Parallel(n_jobs=-1)]: Done  42 tasks      | elapsed:    8.3s\n",
      "[Parallel(n_jobs=-1)]: Done 192 tasks      | elapsed:   23.4s\n",
      "[Parallel(n_jobs=-1)]: Done 385 out of 385 | elapsed:  1.3min finished\n",
      "C:\\Users\\franc\\AppData\\Local\\Continuum\\anaconda3\\lib\\site-packages\\sklearn\\linear_model\\logistic.py:1506: UserWarning: l1_ratio parameter is only used when penalty is 'elasticnet'. Got (penalty=l1)\n",
      "  \"(penalty={})\".format(self.penalty))\n",
      "C:\\Users\\franc\\AppData\\Local\\Continuum\\anaconda3\\lib\\site-packages\\sklearn\\linear_model\\logistic.py:469: FutureWarning: Default multi_class will be changed to 'auto' in 0.22. Specify the multi_class option to silence this warning.\n",
      "  \"this warning.\", FutureWarning)\n"
     ]
    },
    {
     "name": "stdout",
     "output_type": "stream",
     "text": [
      "tuned hpyerparameters :(best parameters)  {'C': 26, 'penalty': 'l1', 'solver': 'liblinear'}\n",
      "accuracy : 0.5482456140350878\n",
      "DeFinetti: 0.5317617767511521\n",
      "LogLoss :  0.8983505190327147\n"
     ]
    }
   ],
   "source": [
    "grid =[\n",
    "    {'penalty':['elasticnet'],'C':[i for i in range(1,55,5)],'solver':['saga']},\n",
    "    {'penalty':['l2'],'C':[i for i in range(1,55,5)],'solver':['newton-cg','sag','lbfgs','liblinear']},\n",
    "    {'penalty':['l1'],'C':[i for i in range(1,55,5)],'solver':['saga','liblinear']}\n",
    "]\n",
    "GCV=GridSearchCV(LogisticRegression(random_state=42,l1_ratio=1), param_grid = grid, cv = 5, verbose=True, n_jobs=-1)\n",
    "GCV.fit(X_train,y_train)\n",
    "print(\"tuned hpyerparameters :(best parameters) \",GCV.best_params_)\n",
    "print(\"accuracy :\",GCV.best_score_)\n",
    "print('DeFinetti:',deFinetti(GCV,X_test,y_test))\n",
    "print('LogLoss : ',log_loss(y_test,GCV.predict_proba(X_test)))"
   ]
  },
  {
   "cell_type": "code",
   "execution_count": 157,
   "metadata": {},
   "outputs": [
    {
     "name": "stdout",
     "output_type": "stream",
     "text": [
      "Fitting 5 folds for each of 80 candidates, totalling 400 fits\n"
     ]
    },
    {
     "name": "stderr",
     "output_type": "stream",
     "text": [
      "[Parallel(n_jobs=-1)]: Using backend LokyBackend with 4 concurrent workers.\n",
      "[Parallel(n_jobs=-1)]: Done  42 tasks      | elapsed:   48.2s\n",
      "[Parallel(n_jobs=-1)]: Done 192 tasks      | elapsed:  4.1min\n",
      "[Parallel(n_jobs=-1)]: Done 400 out of 400 | elapsed: 15.5min finished\n"
     ]
    },
    {
     "name": "stdout",
     "output_type": "stream",
     "text": [
      "tuned hpyerparameters :(best parameters)  {'C': 4, 'decision_function_shape': 'ovr', 'gamma': 'scale', 'kernel': 'rbf'}\n",
      "accuracy : 0.5343567251461988\n",
      "DeFinetti: 0.5837396087040126\n",
      "LogLoss :  0.9821498373849435\n"
     ]
    }
   ],
   "source": [
    "grid2 =[\n",
    "    {'kernel':['rbf','sigmoid'],'C':[i for i in range(1,11)],'gamma':['scale'],'decision_function_shape':['ovr']},\n",
    "    {'kernel':['poly'],'C':[i for i in range(1,11)],'degree':[i for i in range(1,7)],'gamma':['scale'],'decision_function_shape':['ovr']}\n",
    "]\n",
    "GCV2=GridSearchCV(SVC(random_state=42,probability=True), param_grid = grid2, cv = 5, verbose=True, n_jobs=-1)\n",
    "GCV2.fit(X_train,y_train)\n",
    "print(\"tuned hpyerparameters :(best parameters) \",GCV2.best_params_)\n",
    "print(\"accuracy :\",GCV2.best_score_)\n",
    "print('DeFinetti:',deFinetti(GCV2,X_test,y_test))\n",
    "print('LogLoss : ',log_loss(y_test,GCV2.predict_proba(X_test)))"
   ]
  },
  {
   "cell_type": "code",
   "execution_count": 160,
   "metadata": {},
   "outputs": [
    {
     "name": "stdout",
     "output_type": "stream",
     "text": [
      "Fitting 5 folds for each of 6050 candidates, totalling 30250 fits\n"
     ]
    },
    {
     "name": "stderr",
     "output_type": "stream",
     "text": [
      "[Parallel(n_jobs=3)]: Using backend LokyBackend with 3 concurrent workers.\n",
      "[Parallel(n_jobs=3)]: Done  44 tasks      | elapsed:    3.9s\n",
      "[Parallel(n_jobs=3)]: Done 194 tasks      | elapsed:   33.5s\n",
      "[Parallel(n_jobs=3)]: Done 444 tasks      | elapsed:  2.5min\n",
      "[Parallel(n_jobs=3)]: Done 794 tasks      | elapsed:  4.9min\n",
      "[Parallel(n_jobs=3)]: Done 1244 tasks      | elapsed:  7.5min\n",
      "[Parallel(n_jobs=3)]: Done 1794 tasks      | elapsed:  9.8min\n",
      "[Parallel(n_jobs=3)]: Done 2444 tasks      | elapsed: 12.5min\n",
      "[Parallel(n_jobs=3)]: Done 3194 tasks      | elapsed: 15.3min\n",
      "[Parallel(n_jobs=3)]: Done 4044 tasks      | elapsed: 18.7min\n",
      "[Parallel(n_jobs=3)]: Done 4994 tasks      | elapsed: 22.7min\n",
      "[Parallel(n_jobs=3)]: Done 6044 tasks      | elapsed: 27.7min\n",
      "[Parallel(n_jobs=3)]: Done 7194 tasks      | elapsed: 32.4min\n",
      "[Parallel(n_jobs=3)]: Done 8444 tasks      | elapsed: 38.0min\n",
      "[Parallel(n_jobs=3)]: Done 9794 tasks      | elapsed: 43.7min\n",
      "[Parallel(n_jobs=3)]: Done 11244 tasks      | elapsed: 49.6min\n",
      "[Parallel(n_jobs=3)]: Done 12794 tasks      | elapsed: 57.1min\n",
      "[Parallel(n_jobs=3)]: Done 14444 tasks      | elapsed: 65.2min\n",
      "[Parallel(n_jobs=3)]: Done 16194 tasks      | elapsed: 73.8min\n",
      "[Parallel(n_jobs=3)]: Done 18044 tasks      | elapsed: 83.2min\n",
      "[Parallel(n_jobs=3)]: Done 19994 tasks      | elapsed: 93.7min\n",
      "[Parallel(n_jobs=3)]: Done 22044 tasks      | elapsed: 103.6min\n",
      "[Parallel(n_jobs=3)]: Done 24194 tasks      | elapsed: 118.1min\n",
      "[Parallel(n_jobs=3)]: Done 26444 tasks      | elapsed: 143.1min\n",
      "[Parallel(n_jobs=3)]: Done 28794 tasks      | elapsed: 170.7min\n",
      "[Parallel(n_jobs=3)]: Done 30250 out of 30250 | elapsed: 190.0min finished\n"
     ]
    },
    {
     "data": {
      "text/plain": [
       "GridSearchCV(cv=5, error_score='raise-deprecating',\n",
       "             estimator=XGBClassifier(base_score=0.5, booster='gbtree',\n",
       "                                     colsample_bylevel=1, colsample_bynode=1,\n",
       "                                     colsample_bytree=1, eval_metric='logloss',\n",
       "                                     gamma=0, learning_rate=0.1,\n",
       "                                     max_delta_step=0, max_depth=3,\n",
       "                                     min_child_weight=1, missing=None,\n",
       "                                     n_estimators=100, n_jobs=1, nthread=None,\n",
       "                                     objective='multi:softmax', random_state...\n",
       "                                              0.8999999999999999],\n",
       "                         'eta': [0.01, 0.03, 0.049999999999999996,\n",
       "                                 0.06999999999999999, 0.08999999999999998,\n",
       "                                 0.10999999999999997, 0.12999999999999998, 0.15,\n",
       "                                 0.16999999999999998, 0.18999999999999997],\n",
       "                         'max_depth': [0, 1, 2, 3, 4, 5, 6, 7, 8, 9, 10],\n",
       "                         'n_estimator': [0, 50, 100, 150, 200, 250, 300, 350,\n",
       "                                         400, 450, 500]},\n",
       "             pre_dispatch='2*n_jobs', refit=True, return_train_score=False,\n",
       "             scoring=None, verbose=True)"
      ]
     },
     "execution_count": 160,
     "metadata": {},
     "output_type": "execute_result"
    }
   ],
   "source": [
    "grid3 ={'n_estimator':[i for i in range(0,550,50)],\n",
    "    'eta':[i for i in np.arange(0.01,0.21,0.02)],\n",
    "            'max_depth':[i for i in range(11)],\n",
    "            'colsample_bytree':[i for i in np.arange(0.5,1.0,0.1)]}\n",
    "estimator = XGBClassifier(objective='multi:softmax',eval_metric='logloss',seed=42)\n",
    "GCV3=GridSearchCV(estimator = estimator, param_grid = grid3, cv = 5, verbose=True, n_jobs=3)\n",
    "GCV3.fit(X_train,y_train)"
   ]
  },
  {
   "cell_type": "code",
   "execution_count": 161,
   "metadata": {},
   "outputs": [
    {
     "name": "stdout",
     "output_type": "stream",
     "text": [
      "tuned hpyerparameters :(best parameters)  {'colsample_bytree': 0.8999999999999999, 'eta': 0.01, 'max_depth': 2, 'n_estimator': 0}\n",
      "accuracy : 0.5752923976608187\n",
      "DeFinetti: 0.5196334071751665\n",
      "LogLoss :  0.8783876160432024\n"
     ]
    }
   ],
   "source": [
    "print(\"tuned hpyerparameters :(best parameters) \",GCV3.best_params_)\n",
    "print(\"accuracy :\",GCV3.best_score_)\n",
    "print('DeFinetti:',deFinetti(GCV3,X_test,y_test))\n",
    "print('LogLoss : ',log_loss(y_test,GCV3.predict_proba(X_test)))"
   ]
  },
  {
   "cell_type": "code",
   "execution_count": 158,
   "metadata": {},
   "outputs": [
    {
     "data": {
      "text/plain": [
       "Text(0.5, 1, 'SVM : Matrice de confusion')"
      ]
     },
     "execution_count": 158,
     "metadata": {},
     "output_type": "execute_result"
    },
    {
     "data": {
      "image/png": "[encoded data removed]",
      "text/plain": [
       "<Figure size 1080x288 with 6 Axes>"
      ]
     },
     "metadata": {
      "needs_background": "light"
     },
     "output_type": "display_data"
    }
   ],
   "source": [
    "plt.figure(figsize=(15,4))\n",
    "plt.subplot(131)\n",
    "matrix = confusion_matrix(y_test, GCV.predict(X_test))\n",
    "sns.heatmap(matrix/np.sum(matrix),annot=True,cbar=True,fmt='.2%', cmap=sns.diverging_palette(220, 10, as_cmap=True),\n",
    "            xticklabels=['Victoire Extérieur','Match Nul','Victoire Domicile'],\n",
    "            yticklabels=['Victoire Extérieur','Match Nul','Victoire Domicile']\n",
    "           )\n",
    "plt.ylabel('True Label')\n",
    "plt.xlabel('Predicted Label')\n",
    "plt.title('Régression Logistique : Matrice de confusion')\n",
    "plt.subplot(132)\n",
    "matrix = confusion_matrix(y_test, GCV3.predict(X_test))\n",
    "sns.heatmap(matrix/np.sum(matrix),annot=True,cbar=True,fmt='.2%', cmap=sns.diverging_palette(220, 10, as_cmap=True),\n",
    "            xticklabels=['Victoire Extérieur','Match Nul','Victoire Domicile'],\n",
    "            yticklabels=['Victoire Extérieur','Match Nul','Victoire Domicile']\n",
    "           )\n",
    "plt.ylabel('True Label')\n",
    "plt.xlabel('Predicted Label')\n",
    "plt.title('XGBOOST : Matrice de confusion')\n",
    "plt.subplot(133)\n",
    "matrix = confusion_matrix(y_test, GCV2.predict(X_test))\n",
    "sns.heatmap(matrix/np.sum(matrix),annot=True,cbar=True,fmt='.2%', cmap=sns.diverging_palette(220, 10, as_cmap=True),\n",
    "            xticklabels=['Victoire Extérieur','Match Nul','Victoire Domicile'],\n",
    "            yticklabels=['Victoire Extérieur','Match Nul','Victoire Domicile']\n",
    "           )\n",
    "plt.ylabel('True Label')\n",
    "plt.xlabel('Predicted Label')\n",
    "plt.subplots_adjust(wspace=1)\n",
    "plt.title('SVM : Matrice de confusion')"
   ]
  },
  {
   "cell_type": "code",
   "execution_count": 169,
   "metadata": {},
   "outputs": [
    {
     "name": "stdout",
     "output_type": "stream",
     "text": [
      "Fitting 5 folds for each of 180 candidates, totalling 900 fits\n"
     ]
    },
    {
     "name": "stderr",
     "output_type": "stream",
     "text": [
      "[Parallel(n_jobs=3)]: Using backend LokyBackend with 3 concurrent workers.\n",
      "[Parallel(n_jobs=3)]: Done  44 tasks      | elapsed:  1.8min\n",
      "[Parallel(n_jobs=3)]: Done 194 tasks      | elapsed:  7.4min\n",
      "[Parallel(n_jobs=3)]: Done 444 tasks      | elapsed: 21.9min\n",
      "[Parallel(n_jobs=3)]: Done 794 tasks      | elapsed: 46.2min\n",
      "[Parallel(n_jobs=3)]: Done 900 out of 900 | elapsed: 99.0min finished\n"
     ]
    },
    {
     "data": {
      "text/plain": [
       "GridSearchCV(cv=5, error_score='raise-deprecating',\n",
       "             estimator=RandomForestClassifier(bootstrap=True, class_weight=None,\n",
       "                                              criterion='gini', max_depth=None,\n",
       "                                              max_features='auto',\n",
       "                                              max_leaf_nodes=None,\n",
       "                                              min_impurity_decrease=0.0,\n",
       "                                              min_impurity_split=None,\n",
       "                                              min_samples_leaf=1,\n",
       "                                              min_samples_split=2,\n",
       "                                              min_weight_fraction_leaf=0.0,\n",
       "                                              n_estimators='warn', n_jobs=None,\n",
       "                                              oob_score=False, random_state=42,\n",
       "                                              verbose=0, warm_start=False),\n",
       "             iid='warn', n_jobs=3,\n",
       "             param_grid={'bootstrap': [True, False],\n",
       "                         'criterion': ['gini', 'entropy'],\n",
       "                         'min_samples_leaf': [1, 2, 4],\n",
       "                         'min_samples_split': [2, 5, 10],\n",
       "                         'n_estimators': [100, 250, 500, 750, 1000]},\n",
       "             pre_dispatch='2*n_jobs', refit=True, return_train_score=False,\n",
       "             scoring=None, verbose=True)"
      ]
     },
     "execution_count": 169,
     "metadata": {},
     "output_type": "execute_result"
    }
   ],
   "source": [
    "grid4 ={'n_estimators':[100,250,500,750,1000],\n",
    "       'criterion':['gini','entropy'],\n",
    "       'min_samples_split': [2, 5, 10],\n",
    "       'min_samples_leaf' :[1, 2, 4],\n",
    "       'bootstrap':[True,False]}\n",
    "estimator = RandomForestClassifier(random_state=42)\n",
    "GCV4=GridSearchCV(estimator = estimator, param_grid = grid4, cv = 5, verbose=True, n_jobs=3)\n",
    "GCV4.fit(X_train,y_train)"
   ]
  },
  {
   "cell_type": "code",
   "execution_count": 170,
   "metadata": {},
   "outputs": [
    {
     "name": "stdout",
     "output_type": "stream",
     "text": [
      "tuned hpyerparameters :(best parameters)  {'bootstrap': True, 'criterion': 'gini', 'min_samples_leaf': 4, 'min_samples_split': 10, 'n_estimators': 1000}\n",
      "accuracy : 0.5617690058479532\n",
      "DeFinetti: 0.5284307520860793\n",
      "LogLoss :  0.8917279845619782\n"
     ]
    }
   ],
   "source": [
    "print(\"tuned hpyerparameters :(best parameters) \",GCV4.best_params_)\n",
    "print(\"accuracy :\",GCV4.best_score_)\n",
    "print('DeFinetti:',deFinetti(GCV4,X_test,y_test))\n",
    "print('LogLoss : ',log_loss(y_test,GCV4.predict_proba(X_test)))"
   ]
  },
  {
   "cell_type": "code",
   "execution_count": 171,
   "metadata": {},
   "outputs": [
    {
     "data": {
      "text/plain": [
       "Text(0.5, 1, 'RF : Matrice de confusion')"
      ]
     },
     "execution_count": 171,
     "metadata": {},
     "output_type": "execute_result"
    },
    {
     "data": {
      "image/png": "[encoded data removed]",
      "text/plain": [
       "<Figure size 432x288 with 2 Axes>"
      ]
     },
     "metadata": {
      "needs_background": "light"
     },
     "output_type": "display_data"
    }
   ],
   "source": [
    "matrix = confusion_matrix(y_test, GCV4.predict(X_test))\n",
    "sns.heatmap(matrix/np.sum(matrix),annot=True,cbar=True,fmt='.2%', cmap=sns.diverging_palette(220, 10, as_cmap=True),\n",
    "            xticklabels=['Victoire Extérieur','Match Nul','Victoire Domicile'],\n",
    "            yticklabels=['Victoire Extérieur','Match Nul','Victoire Domicile']\n",
    "           )\n",
    "plt.ylabel('True Label')\n",
    "plt.xlabel('Predicted Label')\n",
    "plt.subplots_adjust(wspace=1)\n",
    "plt.title('RF : Matrice de confusion')"
   ]
  },
  {
   "cell_type": "code",
   "execution_count": null,
   "metadata": {},
   "outputs": [],
   "source": []
  }
 ],
 "metadata": {
  "kernelspec": {
   "display_name": "Python 3",
   "language": "python",
   "name": "python3"
  },
  "language_info": {
   "codemirror_mode": {
    "name": "ipython",
    "version": 3
   },
   "file_extension": ".py",
   "mimetype": "text/x-python",
   "name": "python",
   "nbconvert_exporter": "python",
   "pygments_lexer": "ipython3",
   "version": "3.6.5"
  }
 },
 "nbformat": 4,
 "nbformat_minor": 2
}
